{
 "cells": [
  {
   "cell_type": "markdown",
   "id": "fd8d6ec0",
   "metadata": {},
   "source": [
    "# Семинар 2. Погружаемся в нейроны\n",
    "\n",
    "### 0. С чего вообще все пошло?"
   ]
  },
  {
   "cell_type": "markdown",
   "id": "5aad22df",
   "metadata": {},
   "source": [
    "![нейрон](https://psyfactor.org/neuropsy/i/xneuron2.jpg.pagespeed.ic.QWX_NDvFYO.webp)"
   ]
  },
  {
   "cell_type": "markdown",
   "id": "0639597f",
   "metadata": {},
   "source": [
    "Из строения нейрона делаем выводы:\n",
    "- **Дендритов** (входных каналов) может быть **много**\n",
    "- **Аксон** (выходной канал) может быть только **один** (но в будущем он может ветвиться)"
   ]
  },
  {
   "cell_type": "markdown",
   "id": "19e2db5b",
   "metadata": {},
   "source": [
    "У дендритов есть шипики, и чем больше шипиков, тем больше вклад (**вес**) конкретного дендрита в проводимость сигнала.  \n",
    "Например: смотря на кошку, больший вклад в распознавание кошки вносят сигналы, получаемые зрительным нервом, нежели ощущения в пятке.\n",
    "\n",
    "---\n",
    "\n",
    "Теперь перенесемся к искусственным нейронам, имеем:\n",
    "- Дендриты (входы)\n",
    "- Аксон (выход)\n",
    "- Тело нейрона \n",
    "\n",
    "![](https://wiki.loginom.ru/images/artificial-neuron.svg)"
   ]
  },
  {
   "cell_type": "markdown",
   "id": "09a3a4ca",
   "metadata": {},
   "source": [
    "Внутри нейрона происходит суммирование всех сигналов с их весами:\n",
    "$$\n",
    "S = \\sum_{i=1}^{n}{X_i \\cdot w_i}\n",
    "$$\n",
    "\n",
    "**НО**  \n",
    "Не все сигналы проходят дальше, иначе от нейронов не было смысла.  \n",
    "На примере с кошкой представьте, что если бы у вас были закрыты глаза, а вы бы все равно распознавали образ кошки только потому что получаете сигналы от ощущений своей пятки.  \n",
    "Поэтому нейрону необходимо еще **активироваться**, иначе говоря пропустить сигнал дальше при каких-то условиях, в простейшем случае - пороговая функция, как на рисунке ниже. \n",
    "\n",
    "![](https://aisimple.ru/uploads/posts/2020-04/1586743155_step.png)"
   ]
  },
  {
   "cell_type": "markdown",
   "id": "62d1793b",
   "metadata": {},
   "source": [
    "Теперь перенесем имеющуюся информациию на язык Python.  \n",
    "Инициализируем наши сигналы и веса."
   ]
  },
  {
   "cell_type": "code",
   "execution_count": 2,
   "id": "ebb46a3d",
   "metadata": {},
   "outputs": [],
   "source": [
    "x1 = 0.1\n",
    "x2 = 0.3\n",
    "x3 = 0.4\n",
    "w1 = 0.2\n",
    "w2 = -0.3\n",
    "w3 = -0.1"
   ]
  },
  {
   "cell_type": "markdown",
   "id": "bc816224",
   "metadata": {},
   "source": [
    "Суммируем все это"
   ]
  },
  {
   "cell_type": "code",
   "execution_count": 3,
   "id": "b37fa230",
   "metadata": {},
   "outputs": [
    {
     "name": "stdout",
     "output_type": "stream",
     "text": [
      "-0.11\n"
     ]
    }
   ],
   "source": [
    "s = x1 * w1 + x2 * w2 + x3 * w3\n",
    "print(s)"
   ]
  },
  {
   "cell_type": "code",
   "execution_count": 4,
   "id": "293a57cf",
   "metadata": {},
   "outputs": [
    {
     "name": "stdout",
     "output_type": "stream",
     "text": [
      "0\n"
     ]
    }
   ],
   "source": [
    "if s > 0:\n",
    "    output_signal = 1\n",
    "else:\n",
    "    output_signal = 0\n",
    "print(output_signal)"
   ]
  },
  {
   "cell_type": "markdown",
   "id": "9e02b4aa",
   "metadata": {},
   "source": [
    "Нейрон не активировался, потому что суммарный сигнал оказался слишком слабым, чтобы пробить порог функции.  "
   ]
  },
  {
   "cell_type": "markdown",
   "id": "fdc672eb",
   "metadata": {},
   "source": [
    "Какие проблемы у кода выше? \n",
    "- Если много входов, то выражение для `s` станет невероятно большим, все придется писать руками.  \n",
    "- Если хотим менять функцию активации, лучше обернуть ее в функцию Python.  \n",
    "\n",
    "Можно ли сделать код еще лучше? Можно!"
   ]
  },
  {
   "cell_type": "code",
   "execution_count": 5,
   "id": "fa247e3e",
   "metadata": {},
   "outputs": [],
   "source": [
    "x = [0.1, 0.3, 0.4]\n",
    "w = [0.2, -0.3, -0.1]\n",
    "\n",
    "\n",
    "def sum_inside_neuron(x_list, w_list):\n",
    "    output = 0\n",
    "    for i in range(len(x_list)):\n",
    "        output += x_list[i] * w_list[i]\n",
    "    return output\n",
    "\n",
    "\n",
    "def activation(input_signal):\n",
    "    if input_signal > 0:\n",
    "        return 1\n",
    "    return 0"
   ]
  },
  {
   "cell_type": "markdown",
   "id": "1720732e",
   "metadata": {},
   "source": [
    "Проверяем"
   ]
  },
  {
   "cell_type": "code",
   "execution_count": 6,
   "id": "b2a42641",
   "metadata": {},
   "outputs": [
    {
     "name": "stdout",
     "output_type": "stream",
     "text": [
      "-0.11\n"
     ]
    }
   ],
   "source": [
    "neuron_sum = sum_inside_neuron(x, w)\n",
    "print(neuron_sum)"
   ]
  },
  {
   "cell_type": "code",
   "execution_count": 7,
   "id": "3eadd6ec",
   "metadata": {},
   "outputs": [
    {
     "name": "stdout",
     "output_type": "stream",
     "text": [
      "0\n"
     ]
    }
   ],
   "source": [
    "print(activation(neuron_sum))"
   ]
  },
  {
   "cell_type": "markdown",
   "id": "739cbce5",
   "metadata": {},
   "source": [
    "Теперь можем работать со сколь угодно большими по размерам `X` и `W`."
   ]
  },
  {
   "cell_type": "code",
   "execution_count": 8,
   "id": "42dc6c52",
   "metadata": {},
   "outputs": [],
   "source": [
    "import random"
   ]
  },
  {
   "cell_type": "code",
   "execution_count": 13,
   "id": "8fc1b190",
   "metadata": {},
   "outputs": [
    {
     "data": {
      "text/plain": [
       "0.04002811292680519"
      ]
     },
     "execution_count": 13,
     "metadata": {},
     "output_type": "execute_result"
    }
   ],
   "source": [
    "random.random()  # возращает случайное число от 0 до 1"
   ]
  },
  {
   "cell_type": "code",
   "execution_count": 18,
   "id": "d113610f",
   "metadata": {},
   "outputs": [
    {
     "name": "stdout",
     "output_type": "stream",
     "text": [
      "2471.938113976274\n",
      "1\n"
     ]
    }
   ],
   "source": [
    "x = [random.random() for _ in range(10000)]\n",
    "w = [random.random() for _ in range(10000)]\n",
    "\n",
    "neuron_sum = sum_inside_neuron(x, w)\n",
    "print(neuron_sum)\n",
    "\n",
    "print(activation(neuron_sum))"
   ]
  },
  {
   "cell_type": "markdown",
   "id": "db7fef0c",
   "metadata": {},
   "source": [
    "Хорошо, теперь умеем считать выход нашего нейрона для одного наблюдения за раз.  \n",
    "А если хотим много наблюдений за раз?  \n",
    "Что значит __много наблюдений__?  \n",
    "Например, нейрон решает, пойду ли я гулять на основе 3 факторов:\n",
    "1. Температура на улице\n",
    "2. Скорость ветра\n",
    "3. Есть ли у меня настроение гулять\n",
    "\n",
    "Первые два признака называются __численными/непрерывными__, то есть могут принять любое число. Примеры: все, что можно посчитать и сравнить между собой, _температура_, _деньги_, _скорости_, _расстояния_, _возраст_ и т.д.   \n",
    "Третий признак является __качественным/категориальным__, то есть может быть. Примеры: все, что нельзя сравнить между собой, и что является качеством объекта, _цвета_, _день недели_, _образование_, _гражданство_, _номер группы студента_.  \n",
    "\n",
    "Допустим, вчера в 15:00 было -12 градусов на улице, скорость ветра 5 м/c, и у меня не было настроения (0).  \n",
    "Тогда"
   ]
  },
  {
   "cell_type": "code",
   "execution_count": 19,
   "id": "54c2ad9c",
   "metadata": {},
   "outputs": [
    {
     "name": "stdout",
     "output_type": "stream",
     "text": [
      "-4.4251595596643245\n",
      "0\n"
     ]
    }
   ],
   "source": [
    "x = [-12, 5, 0]\n",
    "w = [random.random() for _ in range(3)]  # зададим случайные веса\n",
    "\n",
    "neuron_sum = sum_inside_neuron(x, w)\n",
    "print(neuron_sum)\n",
    "print(activation(neuron_sum))"
   ]
  },
  {
   "cell_type": "markdown",
   "id": "b79d23e0",
   "metadata": {},
   "source": [
    "Затем, вчера же в 16:00 было -10 градусов, скорость ветра 1 м/c, и у меня есть настроение (1)"
   ]
  },
  {
   "cell_type": "code",
   "execution_count": 20,
   "id": "5caf6639",
   "metadata": {},
   "outputs": [
    {
     "name": "stdout",
     "output_type": "stream",
     "text": [
      "-6.12536283470414\n",
      "0\n"
     ]
    }
   ],
   "source": [
    "x = [-10, 1, 1]\n",
    "# веса мы не обновляем, нейрон же остался прежним\n",
    "\n",
    "neuron_sum = sum_inside_neuron(x, w)\n",
    "print(neuron_sum)\n",
    "print(activation(neuron_sum))"
   ]
  },
  {
   "cell_type": "markdown",
   "id": "513862bb",
   "metadata": {},
   "source": [
    "Аналогично я могу собрать данные за все дни года, но неужели придется перепрогонять для каждого x эту ячейку снова и снова?  \n",
    "**НЕТ**  \n",
    "Мы умеем писать функции с необходимым функционалом"
   ]
  },
  {
   "cell_type": "code",
   "execution_count": 25,
   "id": "e63e0d96",
   "metadata": {},
   "outputs": [
    {
     "name": "stdout",
     "output_type": "stream",
     "text": [
      "[[-12, 5, 0], [-10, 1, 1], [3, 0, 1], [5, 3, 0]]\n"
     ]
    }
   ],
   "source": [
    "x_15_00 = [-12, 5, 0]\n",
    "x_16_00 = [-10, 1, 1]\n",
    "x_17_00 = [3, 0, 1]\n",
    "x_18_00 = [5, 3, 0]\n",
    "\n",
    "x_total = [x_15_00, x_16_00, x_17_00, x_18_00]\n",
    "print(x_total)"
   ]
  },
  {
   "cell_type": "markdown",
   "id": "bb8ee538",
   "metadata": {},
   "source": [
    "Обновляем функции, чтобы они умели работать с листами листов  \n",
    "Варианта 2:\n",
    "1. Переписать изначальную функцию  \n",
    "2. Использовать первоначальную функцию для каждого листа"
   ]
  },
  {
   "cell_type": "markdown",
   "id": "4b924de1",
   "metadata": {},
   "source": [
    "1 вариант"
   ]
  },
  {
   "cell_type": "code",
   "execution_count": 30,
   "id": "e06c44ce",
   "metadata": {},
   "outputs": [],
   "source": [
    "def sum_inside_neuron(x_list, w_list):\n",
    "    output = []\n",
    "    for x_one_list in x_list:\n",
    "        total_sum = 0\n",
    "        for i in range(len(x_one_list)):\n",
    "            total_sum += x_one_list[i] * w_list[i]\n",
    "        output.append(total_sum)\n",
    "    return output\n",
    "\n",
    "\n",
    "def activation(input_signal):\n",
    "    output = []\n",
    "    for one_signal in input_signal:\n",
    "        if one_signal > 0:\n",
    "            output.append(1)\n",
    "        else:\n",
    "            output.append(0)\n",
    "    return output"
   ]
  },
  {
   "cell_type": "code",
   "execution_count": 27,
   "id": "c990c482",
   "metadata": {},
   "outputs": [
    {
     "name": "stdout",
     "output_type": "stream",
     "text": [
      "[-4.4251595596643245, -6.12536283470414, 2.2374637791778915, 5.9514226947466735]\n"
     ]
    }
   ],
   "source": [
    "sums = sum_inside_neuron(x_total, w)\n",
    "print(sums)"
   ]
  },
  {
   "cell_type": "code",
   "execution_count": 28,
   "id": "d84bb3bc",
   "metadata": {},
   "outputs": [
    {
     "name": "stdout",
     "output_type": "stream",
     "text": [
      "[0, 0, 1, 1]\n"
     ]
    }
   ],
   "source": [
    "print(activation(sums))"
   ]
  },
  {
   "cell_type": "markdown",
   "id": "b4a4b454",
   "metadata": {},
   "source": [
    "2 вариант"
   ]
  },
  {
   "cell_type": "code",
   "execution_count": 36,
   "id": "580149a8",
   "metadata": {},
   "outputs": [],
   "source": [
    "def sum_inside_neuron(x_list, w_list):\n",
    "    \"\"\"Умеет считать сумму для одного наблюдения\"\"\"\n",
    "    output = 0\n",
    "    for i in range(len(x_list)):\n",
    "        output += x_list[i] * w_list[i]\n",
    "    return output\n",
    "\n",
    "\n",
    "def activation(input_signal):\n",
    "    \"\"\"Умеет считать активацию для одного наблюдения\"\"\"\n",
    "    if input_signal > 0:\n",
    "        return 1\n",
    "    return 0\n",
    "\n",
    "\n",
    "def total_sum_inside_neuron(x_list, w_list):\n",
    "    \"\"\"Умеет считать сумму для любого количества наблюдений\"\"\"\n",
    "    output = []\n",
    "    for x_one_list in x_list:\n",
    "        one_output = sum_inside_neuron(x_one_list, w_list)\n",
    "        output.append(one_output)\n",
    "    return output\n",
    "\n",
    "\n",
    "def total_activation(input_signal):\n",
    "    \"\"\"Умеет считать активации для любого количества наблюдений\"\"\"\n",
    "    output = []\n",
    "    for one_signal in input_signal:\n",
    "        one_output = activation(one_signal)\n",
    "        output.append(one_output)\n",
    "    return output"
   ]
  },
  {
   "cell_type": "code",
   "execution_count": 37,
   "id": "7ab019dd",
   "metadata": {},
   "outputs": [
    {
     "name": "stdout",
     "output_type": "stream",
     "text": [
      "[-4.4251595596643245, -6.12536283470414, 2.2374637791778915, 5.9514226947466735]\n"
     ]
    }
   ],
   "source": [
    "sums = total_sum_inside_neuron(x_total, w)\n",
    "print(sums)"
   ]
  },
  {
   "cell_type": "code",
   "execution_count": 38,
   "id": "6b9332e3",
   "metadata": {},
   "outputs": [
    {
     "name": "stdout",
     "output_type": "stream",
     "text": [
      "[0, 0, 1, 1]\n"
     ]
    }
   ],
   "source": [
    "print(total_activation(sums))"
   ]
  },
  {
   "cell_type": "markdown",
   "id": "d5ed4a26",
   "metadata": {},
   "source": [
    "А насколько это быстро считается?"
   ]
  },
  {
   "cell_type": "code",
   "execution_count": 41,
   "id": "eb1558bc",
   "metadata": {},
   "outputs": [],
   "source": [
    "x_total = [[random.random() for _ in range(3)] for _ in range(5_000_000)]"
   ]
  },
  {
   "cell_type": "code",
   "execution_count": 49,
   "id": "30290571",
   "metadata": {},
   "outputs": [
    {
     "name": "stdout",
     "output_type": "stream",
     "text": [
      "Wall time: 4.32 s\n"
     ]
    }
   ],
   "source": [
    "%%time\n",
    "sums = total_sum_inside_neuron(x_total, w)"
   ]
  },
  {
   "cell_type": "code",
   "execution_count": 50,
   "id": "70c33288",
   "metadata": {},
   "outputs": [
    {
     "name": "stdout",
     "output_type": "stream",
     "text": [
      "Wall time: 1.13 s\n"
     ]
    }
   ],
   "source": [
    "%%time\n",
    "activations = total_activation(sums)"
   ]
  },
  {
   "cell_type": "markdown",
   "id": "afb41675",
   "metadata": {},
   "source": [
    "Можно ли быстрее?  \n",
    "**МОЖНО**"
   ]
  },
  {
   "cell_type": "code",
   "execution_count": 43,
   "id": "8e47e521",
   "metadata": {},
   "outputs": [],
   "source": [
    "import numpy as np"
   ]
  },
  {
   "cell_type": "code",
   "execution_count": 44,
   "id": "b43600dd",
   "metadata": {},
   "outputs": [],
   "source": [
    "x_total_np = np.array(x_total)\n",
    "w_np = np.array(w)"
   ]
  },
  {
   "cell_type": "code",
   "execution_count": 59,
   "id": "b7719848",
   "metadata": {},
   "outputs": [
    {
     "name": "stdout",
     "output_type": "stream",
     "text": [
      "Wall time: 10.3 ms\n"
     ]
    }
   ],
   "source": [
    "%%time\n",
    "output = x_total_np @ w_np  # через @ обозначается скалярное произведение векторов/матриц"
   ]
  },
  {
   "cell_type": "code",
   "execution_count": 102,
   "id": "9216cc06",
   "metadata": {},
   "outputs": [
    {
     "name": "stdout",
     "output_type": "stream",
     "text": [
      "Wall time: 1.05 s\n"
     ]
    }
   ],
   "source": [
    "%%time\n",
    "activation_vectorized = np.vectorize(activation)\n",
    "activations_np = activation_vectorized(output)"
   ]
  },
  {
   "cell_type": "code",
   "execution_count": 101,
   "id": "1b91eb33",
   "metadata": {},
   "outputs": [
    {
     "data": {
      "text/plain": [
       "[1, 1, 1, 1, 1, 1, 1, 1, 1, 1]"
      ]
     },
     "execution_count": 101,
     "metadata": {},
     "output_type": "execute_result"
    }
   ],
   "source": [
    "activations[:10]"
   ]
  },
  {
   "cell_type": "code",
   "execution_count": 100,
   "id": "a229b47c",
   "metadata": {},
   "outputs": [
    {
     "data": {
      "text/plain": [
       "array([1, 1, 1, 1, 1, 1, 1, 1, 1, 1])"
      ]
     },
     "execution_count": 100,
     "metadata": {},
     "output_type": "execute_result"
    }
   ],
   "source": [
    "activations_np[:10]"
   ]
  },
  {
   "cell_type": "code",
   "execution_count": 54,
   "id": "fb032d97",
   "metadata": {},
   "outputs": [
    {
     "data": {
      "text/plain": [
       "[0.49487427043930055,\n",
       " 0.6906733904411232,\n",
       " 0.7780293098418298,\n",
       " 0.9018110545190832,\n",
       " 0.8818343082168674]"
      ]
     },
     "execution_count": 54,
     "metadata": {},
     "output_type": "execute_result"
    }
   ],
   "source": [
    "sums[:5]"
   ]
  },
  {
   "cell_type": "code",
   "execution_count": 55,
   "id": "3ac0afbb",
   "metadata": {},
   "outputs": [
    {
     "data": {
      "text/plain": [
       "array([0.49487427, 0.69067339, 0.77802931, 0.90181105, 0.88183431])"
      ]
     },
     "execution_count": 55,
     "metadata": {},
     "output_type": "execute_result"
    }
   ],
   "source": [
    "output[:5]"
   ]
  },
  {
   "cell_type": "markdown",
   "id": "ecedb8b2",
   "metadata": {},
   "source": [
    "4.32 секунды VS 10.3 миллисекунды"
   ]
  },
  {
   "cell_type": "code",
   "execution_count": 61,
   "id": "6b7ef7db",
   "metadata": {},
   "outputs": [
    {
     "name": "stdout",
     "output_type": "stream",
     "text": [
      "Быстрее в 419 раз!\n"
     ]
    }
   ],
   "source": [
    "profit = 4.32 * 1e3 / 10.3\n",
    "print(\"Быстрее в\", round(profit), \"раз!\")"
   ]
  },
  {
   "cell_type": "markdown",
   "id": "5552c73d",
   "metadata": {},
   "source": [
    "# Библиотеки"
   ]
  },
  {
   "cell_type": "markdown",
   "id": "70f8de59",
   "metadata": {},
   "source": [
    "**NumPy** (https://numpy.org) -- библиотека для работы с массивами.  \n",
    "Работаем с примерами отсюда https://numpy.org/doc/stable/user/quickstart.html#the-basics"
   ]
  },
  {
   "cell_type": "code",
   "execution_count": 62,
   "id": "a04b3556",
   "metadata": {},
   "outputs": [
    {
     "data": {
      "text/plain": [
       "array([ 0,  1,  2,  3,  4,  5,  6,  7,  8,  9, 10, 11, 12, 13, 14])"
      ]
     },
     "execution_count": 62,
     "metadata": {},
     "output_type": "execute_result"
    }
   ],
   "source": [
    "a = np.arange(15)\n",
    "a"
   ]
  },
  {
   "cell_type": "code",
   "execution_count": 63,
   "id": "89e62612",
   "metadata": {},
   "outputs": [
    {
     "data": {
      "text/plain": [
       "(15,)"
      ]
     },
     "execution_count": 63,
     "metadata": {},
     "output_type": "execute_result"
    }
   ],
   "source": [
    "a.shape"
   ]
  },
  {
   "cell_type": "code",
   "execution_count": 64,
   "id": "3750d8e6",
   "metadata": {},
   "outputs": [
    {
     "data": {
      "text/plain": [
       "numpy.ndarray"
      ]
     },
     "execution_count": 64,
     "metadata": {},
     "output_type": "execute_result"
    }
   ],
   "source": [
    "type(a)"
   ]
  },
  {
   "cell_type": "code",
   "execution_count": 65,
   "id": "1e6807dd",
   "metadata": {},
   "outputs": [
    {
     "data": {
      "text/plain": [
       "array([[ 0,  1,  2,  3,  4],\n",
       "       [ 5,  6,  7,  8,  9],\n",
       "       [10, 11, 12, 13, 14]])"
      ]
     },
     "execution_count": 65,
     "metadata": {},
     "output_type": "execute_result"
    }
   ],
   "source": [
    "a = a.reshape(3, 5)\n",
    "a"
   ]
  },
  {
   "cell_type": "code",
   "execution_count": 66,
   "id": "21e4ace7",
   "metadata": {},
   "outputs": [
    {
     "data": {
      "text/plain": [
       "(3, 5)"
      ]
     },
     "execution_count": 66,
     "metadata": {},
     "output_type": "execute_result"
    }
   ],
   "source": [
    "a.shape"
   ]
  },
  {
   "cell_type": "code",
   "execution_count": 67,
   "id": "28f50b68",
   "metadata": {},
   "outputs": [
    {
     "data": {
      "text/plain": [
       "dtype('int32')"
      ]
     },
     "execution_count": 67,
     "metadata": {},
     "output_type": "execute_result"
    }
   ],
   "source": [
    "a.dtype"
   ]
  },
  {
   "cell_type": "code",
   "execution_count": 68,
   "id": "ce7f3961",
   "metadata": {},
   "outputs": [
    {
     "data": {
      "text/plain": [
       "numpy.ndarray"
      ]
     },
     "execution_count": 68,
     "metadata": {},
     "output_type": "execute_result"
    }
   ],
   "source": [
    "type(a)"
   ]
  },
  {
   "cell_type": "code",
   "execution_count": 69,
   "id": "09312239",
   "metadata": {},
   "outputs": [
    {
     "data": {
      "text/plain": [
       "array([2, 3, 4])"
      ]
     },
     "execution_count": 69,
     "metadata": {},
     "output_type": "execute_result"
    }
   ],
   "source": [
    "b = [2, 3, 4]\n",
    "a = np.array(b)\n",
    "a"
   ]
  },
  {
   "cell_type": "code",
   "execution_count": 70,
   "id": "247427e0",
   "metadata": {},
   "outputs": [
    {
     "data": {
      "text/plain": [
       "dtype('int32')"
      ]
     },
     "execution_count": 70,
     "metadata": {},
     "output_type": "execute_result"
    }
   ],
   "source": [
    "a.dtype"
   ]
  },
  {
   "cell_type": "code",
   "execution_count": 71,
   "id": "bc1a06f1",
   "metadata": {},
   "outputs": [
    {
     "data": {
      "text/plain": [
       "dtype('float64')"
      ]
     },
     "execution_count": 71,
     "metadata": {},
     "output_type": "execute_result"
    }
   ],
   "source": [
    "b = np.array([1.2, 3.5, 5.1])\n",
    "b.dtype"
   ]
  },
  {
   "cell_type": "code",
   "execution_count": 72,
   "id": "3584b015",
   "metadata": {},
   "outputs": [
    {
     "data": {
      "text/plain": [
       "array([[1.5, 2. , 3. ],\n",
       "       [4. , 5. , 6. ]])"
      ]
     },
     "execution_count": 72,
     "metadata": {},
     "output_type": "execute_result"
    }
   ],
   "source": [
    "b = np.array([(1.5, 2, 3), (4, 5, 6)])\n",
    "b"
   ]
  },
  {
   "cell_type": "code",
   "execution_count": 73,
   "id": "e91811e9",
   "metadata": {},
   "outputs": [
    {
     "data": {
      "text/plain": [
       "array([[0., 0., 0., 0.],\n",
       "       [0., 0., 0., 0.],\n",
       "       [0., 0., 0., 0.]])"
      ]
     },
     "execution_count": 73,
     "metadata": {},
     "output_type": "execute_result"
    }
   ],
   "source": [
    "np.zeros((3, 4))"
   ]
  },
  {
   "cell_type": "code",
   "execution_count": 74,
   "id": "d77076b5",
   "metadata": {},
   "outputs": [
    {
     "data": {
      "text/plain": [
       "array([[[1, 1, 1, 1],\n",
       "        [1, 1, 1, 1],\n",
       "        [1, 1, 1, 1]],\n",
       "\n",
       "       [[1, 1, 1, 1],\n",
       "        [1, 1, 1, 1],\n",
       "        [1, 1, 1, 1]]], dtype=int16)"
      ]
     },
     "execution_count": 74,
     "metadata": {},
     "output_type": "execute_result"
    }
   ],
   "source": [
    "np.ones((2, 3, 4), dtype=np.int16)"
   ]
  },
  {
   "cell_type": "code",
   "execution_count": 75,
   "id": "7f3084fa",
   "metadata": {},
   "outputs": [
    {
     "data": {
      "text/plain": [
       "array([10, 15, 20, 25])"
      ]
     },
     "execution_count": 75,
     "metadata": {},
     "output_type": "execute_result"
    }
   ],
   "source": [
    "np.arange(10, 30, 5)"
   ]
  },
  {
   "cell_type": "code",
   "execution_count": 76,
   "id": "c5b02830",
   "metadata": {},
   "outputs": [
    {
     "data": {
      "text/plain": [
       "array([0. , 0.3, 0.6, 0.9, 1.2, 1.5, 1.8])"
      ]
     },
     "execution_count": 76,
     "metadata": {},
     "output_type": "execute_result"
    }
   ],
   "source": [
    "np.arange(0, 2, 0.3)"
   ]
  },
  {
   "cell_type": "markdown",
   "id": "b517c172",
   "metadata": {},
   "source": [
    "Операции с массивами"
   ]
  },
  {
   "cell_type": "code",
   "execution_count": 77,
   "id": "1d72227e",
   "metadata": {},
   "outputs": [
    {
     "name": "stdout",
     "output_type": "stream",
     "text": [
      "[20 30 40 50]\n",
      "[0 1 2 3]\n"
     ]
    }
   ],
   "source": [
    "a = np.array([20, 30, 40, 50])\n",
    "b = np.arange(4)\n",
    "print(a)\n",
    "print(b)"
   ]
  },
  {
   "cell_type": "code",
   "execution_count": 78,
   "id": "c6c536d6",
   "metadata": {},
   "outputs": [
    {
     "data": {
      "text/plain": [
       "array([20, 29, 38, 47])"
      ]
     },
     "execution_count": 78,
     "metadata": {},
     "output_type": "execute_result"
    }
   ],
   "source": [
    "c = a - b\n",
    "c"
   ]
  },
  {
   "cell_type": "code",
   "execution_count": 79,
   "id": "47cf7f0f",
   "metadata": {},
   "outputs": [
    {
     "data": {
      "text/plain": [
       "array([0, 1, 4, 9], dtype=int32)"
      ]
     },
     "execution_count": 79,
     "metadata": {},
     "output_type": "execute_result"
    }
   ],
   "source": [
    "b ** 2"
   ]
  },
  {
   "cell_type": "code",
   "execution_count": 80,
   "id": "31bf89ed",
   "metadata": {},
   "outputs": [
    {
     "data": {
      "text/plain": [
       "array([ 0, 10, 20, 30])"
      ]
     },
     "execution_count": 80,
     "metadata": {},
     "output_type": "execute_result"
    }
   ],
   "source": [
    "b * 10"
   ]
  },
  {
   "cell_type": "code",
   "execution_count": 81,
   "id": "08d08be6",
   "metadata": {
    "scrolled": true
   },
   "outputs": [
    {
     "data": {
      "text/plain": [
       "[0,\n",
       " 1,\n",
       " 2,\n",
       " 3,\n",
       " 0,\n",
       " 1,\n",
       " 2,\n",
       " 3,\n",
       " 0,\n",
       " 1,\n",
       " 2,\n",
       " 3,\n",
       " 0,\n",
       " 1,\n",
       " 2,\n",
       " 3,\n",
       " 0,\n",
       " 1,\n",
       " 2,\n",
       " 3,\n",
       " 0,\n",
       " 1,\n",
       " 2,\n",
       " 3,\n",
       " 0,\n",
       " 1,\n",
       " 2,\n",
       " 3,\n",
       " 0,\n",
       " 1,\n",
       " 2,\n",
       " 3,\n",
       " 0,\n",
       " 1,\n",
       " 2,\n",
       " 3,\n",
       " 0,\n",
       " 1,\n",
       " 2,\n",
       " 3]"
      ]
     },
     "execution_count": 81,
     "metadata": {},
     "output_type": "execute_result"
    }
   ],
   "source": [
    "[0, 1, 2, 3] * 10"
   ]
  },
  {
   "cell_type": "code",
   "execution_count": 82,
   "id": "7295799a",
   "metadata": {},
   "outputs": [
    {
     "data": {
      "text/plain": [
       "array([ 9.12945251, -9.88031624,  7.4511316 , -2.62374854])"
      ]
     },
     "execution_count": 82,
     "metadata": {},
     "output_type": "execute_result"
    }
   ],
   "source": [
    "10 * np.sin(a)"
   ]
  },
  {
   "cell_type": "code",
   "execution_count": 83,
   "id": "a34a3adf",
   "metadata": {},
   "outputs": [
    {
     "data": {
      "text/plain": [
       "array([ True,  True, False, False])"
      ]
     },
     "execution_count": 83,
     "metadata": {},
     "output_type": "execute_result"
    }
   ],
   "source": [
    "a < 35"
   ]
  },
  {
   "cell_type": "code",
   "execution_count": 85,
   "id": "3400c005",
   "metadata": {},
   "outputs": [
    {
     "data": {
      "text/plain": [
       "array([20, 30, 40, 50])"
      ]
     },
     "execution_count": 85,
     "metadata": {},
     "output_type": "execute_result"
    }
   ],
   "source": [
    "a"
   ]
  },
  {
   "cell_type": "code",
   "execution_count": 86,
   "id": "5c8abd31",
   "metadata": {},
   "outputs": [
    {
     "data": {
      "text/plain": [
       "array([20, 30])"
      ]
     },
     "execution_count": 86,
     "metadata": {},
     "output_type": "execute_result"
    }
   ],
   "source": [
    "a[a < 35]"
   ]
  },
  {
   "cell_type": "code",
   "execution_count": 89,
   "id": "caec53ff",
   "metadata": {},
   "outputs": [
    {
     "data": {
      "text/plain": [
       "array([[ 0,  1],\n",
       "       [ 2,  3],\n",
       "       [ 4,  5],\n",
       "       [ 6,  7],\n",
       "       [ 8,  9],\n",
       "       [10, 11]])"
      ]
     },
     "execution_count": 89,
     "metadata": {},
     "output_type": "execute_result"
    }
   ],
   "source": [
    "a = np.arange(12).reshape(6, 2)\n",
    "a"
   ]
  },
  {
   "cell_type": "code",
   "execution_count": 91,
   "id": "e6d81e53",
   "metadata": {},
   "outputs": [
    {
     "data": {
      "text/plain": [
       "array([[ 0,  2,  4,  6,  8, 10],\n",
       "       [ 1,  3,  5,  7,  9, 11]])"
      ]
     },
     "execution_count": 91,
     "metadata": {},
     "output_type": "execute_result"
    }
   ],
   "source": [
    "a.T"
   ]
  },
  {
   "cell_type": "code",
   "execution_count": 94,
   "id": "d5d0b518",
   "metadata": {},
   "outputs": [
    {
     "data": {
      "text/plain": [
       "(6, 2)"
      ]
     },
     "execution_count": 94,
     "metadata": {},
     "output_type": "execute_result"
    }
   ],
   "source": [
    "a.shape"
   ]
  },
  {
   "cell_type": "code",
   "execution_count": 95,
   "id": "cb9c76fc",
   "metadata": {},
   "outputs": [
    {
     "data": {
      "text/plain": [
       "(2, 6)"
      ]
     },
     "execution_count": 95,
     "metadata": {},
     "output_type": "execute_result"
    }
   ],
   "source": [
    "a.T.shape"
   ]
  },
  {
   "cell_type": "code",
   "execution_count": 92,
   "id": "5de4faa4",
   "metadata": {},
   "outputs": [
    {
     "data": {
      "text/plain": [
       "array([[  1,   3,   5,   7,   9,  11],\n",
       "       [  3,  13,  23,  33,  43,  53],\n",
       "       [  5,  23,  41,  59,  77,  95],\n",
       "       [  7,  33,  59,  85, 111, 137],\n",
       "       [  9,  43,  77, 111, 145, 179],\n",
       "       [ 11,  53,  95, 137, 179, 221]])"
      ]
     },
     "execution_count": 92,
     "metadata": {},
     "output_type": "execute_result"
    }
   ],
   "source": [
    "a @ a.T"
   ]
  },
  {
   "cell_type": "code",
   "execution_count": 96,
   "id": "63bb1bc6",
   "metadata": {},
   "outputs": [
    {
     "data": {
      "text/plain": [
       "(6, 6)"
      ]
     },
     "execution_count": 96,
     "metadata": {},
     "output_type": "execute_result"
    }
   ],
   "source": [
    "(a @ a.T).shape"
   ]
  },
  {
   "cell_type": "code",
   "execution_count": 93,
   "id": "a4dab5f0",
   "metadata": {},
   "outputs": [
    {
     "data": {
      "text/plain": [
       "array([[220, 250],\n",
       "       [250, 286]])"
      ]
     },
     "execution_count": 93,
     "metadata": {},
     "output_type": "execute_result"
    }
   ],
   "source": [
    "a.T @ a"
   ]
  },
  {
   "cell_type": "code",
   "execution_count": 97,
   "id": "bb26b07b",
   "metadata": {},
   "outputs": [
    {
     "data": {
      "text/plain": [
       "(2, 2)"
      ]
     },
     "execution_count": 97,
     "metadata": {},
     "output_type": "execute_result"
    }
   ],
   "source": [
    "(a.T @ a).shape"
   ]
  },
  {
   "cell_type": "markdown",
   "id": "acef5b98",
   "metadata": {},
   "source": [
    "## Хорошо, но в реальных нейронных сетях не один нейрон, как быть в этом случае?\n",
    "Вот нейронная сеть чуть посложнее, чем 1 нейрон  \n",
    "![](https://robocraft.ru/files/neuronet/backpropagation/img01.gif)"
   ]
  },
  {
   "cell_type": "markdown",
   "id": "3d533f4c",
   "metadata": {},
   "source": [
    "Анализируем:\n",
    "- Имеет два входа\n",
    "- Потом 3 нейрона\n",
    "- Потом еще 2\n",
    "- И потом еще 1"
   ]
  },
  {
   "cell_type": "markdown",
   "id": "cc71cbd8",
   "metadata": {},
   "source": [
    "Сгенерируем выборку"
   ]
  },
  {
   "cell_type": "code",
   "execution_count": 103,
   "id": "92d48062",
   "metadata": {},
   "outputs": [],
   "source": [
    "x_total = np.random.random(size=(10000, 2))"
   ]
  },
  {
   "cell_type": "code",
   "execution_count": 105,
   "id": "9e6c6da0",
   "metadata": {},
   "outputs": [
    {
     "data": {
      "text/plain": [
       "array([[0.09092732, 0.83709895],\n",
       "       [0.11123983, 0.67039113],\n",
       "       [0.19528601, 0.22168402],\n",
       "       [0.28053582, 0.99927657],\n",
       "       [0.48313133, 0.25541097]])"
      ]
     },
     "execution_count": 105,
     "metadata": {},
     "output_type": "execute_result"
    }
   ],
   "source": [
    "x_total[:5]"
   ]
  },
  {
   "cell_type": "code",
   "execution_count": 106,
   "id": "a9d3d005",
   "metadata": {},
   "outputs": [
    {
     "data": {
      "text/plain": [
       "(10000, 2)"
      ]
     },
     "execution_count": 106,
     "metadata": {},
     "output_type": "execute_result"
    }
   ],
   "source": [
    "x_total.shape"
   ]
  },
  {
   "cell_type": "markdown",
   "id": "dc810d93",
   "metadata": {},
   "source": [
    "Теперь разберемся с весами:    \n",
    "У нас 3 нейрона, на каждый из них поступает сигнал с 2 входов.  \n",
    "В прошлом примере у нас был 1 нейрон с 3 входами, и мы делали `w = [random.random() for _ in range(3)]`  \n",
    "Теперь нейрон имеет 2 входа, значит `w = [random.random() for _ in range(2)]`"
   ]
  },
  {
   "cell_type": "code",
   "execution_count": 107,
   "id": "58b23ecd",
   "metadata": {},
   "outputs": [],
   "source": [
    "w_1 = [random.random() for _ in range(2)]"
   ]
  },
  {
   "cell_type": "markdown",
   "id": "5016de3c",
   "metadata": {},
   "source": [
    "Но таких нейронов 3 штуки, значит, нужно 3 таких листа"
   ]
  },
  {
   "cell_type": "code",
   "execution_count": 116,
   "id": "5000fd55",
   "metadata": {},
   "outputs": [],
   "source": [
    "w_1 = [random.random() for _ in range(2)]\n",
    "w_2 = [random.random() for _ in range(2)]\n",
    "w_3 = [random.random() for _ in range(2)]"
   ]
  },
  {
   "cell_type": "markdown",
   "id": "c57464ab",
   "metadata": {},
   "source": [
    "Объединим их в один лист"
   ]
  },
  {
   "cell_type": "code",
   "execution_count": 117,
   "id": "1547c0b4",
   "metadata": {},
   "outputs": [],
   "source": [
    "w = [w_1, w_2, w_3]"
   ]
  },
  {
   "cell_type": "code",
   "execution_count": 119,
   "id": "834dd22f",
   "metadata": {},
   "outputs": [
    {
     "data": {
      "text/plain": [
       "[[0.6472460473055918, 0.7295033337840976],\n",
       " [0.3568658001551336, 0.05674864289326553],\n",
       " [0.8240869983410362, 0.5276935576044864]]"
      ]
     },
     "execution_count": 119,
     "metadata": {},
     "output_type": "execute_result"
    }
   ],
   "source": [
    "w"
   ]
  },
  {
   "cell_type": "code",
   "execution_count": 120,
   "id": "946f64a9",
   "metadata": {},
   "outputs": [
    {
     "data": {
      "text/plain": [
       "(3, 2)"
      ]
     },
     "execution_count": 120,
     "metadata": {},
     "output_type": "execute_result"
    }
   ],
   "source": [
    "w = np.array(w)\n",
    "w.shape"
   ]
  },
  {
   "cell_type": "markdown",
   "id": "7b6b627b",
   "metadata": {},
   "source": [
    "То есть матрица весов будет размером (__количество нейронов в слое__, __количество входных нейронов__)"
   ]
  },
  {
   "cell_type": "markdown",
   "id": "77e68613",
   "metadata": {},
   "source": [
    "Если у нас будет 7 нейронов в слое с 3 выходами, то"
   ]
  },
  {
   "cell_type": "code",
   "execution_count": 121,
   "id": "526484e9",
   "metadata": {},
   "outputs": [],
   "source": [
    "w = np.random.random(size=(7, 3))"
   ]
  },
  {
   "cell_type": "code",
   "execution_count": 122,
   "id": "ba224430",
   "metadata": {},
   "outputs": [
    {
     "data": {
      "text/plain": [
       "array([[0.50366207, 0.60833504, 0.6216208 ],\n",
       "       [0.18478603, 0.36086179, 0.13829377],\n",
       "       [0.5895319 , 0.92614545, 0.3472564 ],\n",
       "       [0.54072621, 0.58328705, 0.36175768],\n",
       "       [0.32456583, 0.60779459, 0.16479566],\n",
       "       [0.26307051, 0.23613694, 0.05527608],\n",
       "       [0.42252087, 0.496243  , 0.06553577]])"
      ]
     },
     "execution_count": 122,
     "metadata": {},
     "output_type": "execute_result"
    }
   ],
   "source": [
    "w"
   ]
  },
  {
   "cell_type": "code",
   "execution_count": 124,
   "id": "495165ec",
   "metadata": {},
   "outputs": [
    {
     "data": {
      "text/plain": [
       "(7, 3)"
      ]
     },
     "execution_count": 124,
     "metadata": {},
     "output_type": "execute_result"
    }
   ],
   "source": [
    "w.shape"
   ]
  },
  {
   "cell_type": "markdown",
   "id": "9e260ae5",
   "metadata": {},
   "source": [
    "#### Вернемся к нашей изначальной нейросети с 3 нейронами в первом слое и 2 входами"
   ]
  },
  {
   "cell_type": "code",
   "execution_count": 126,
   "id": "3be592f2",
   "metadata": {
    "scrolled": true
   },
   "outputs": [
    {
     "data": {
      "text/plain": [
       "array([[0.14379419, 0.47308802],\n",
       "       [0.30150614, 0.31753439],\n",
       "       [0.58183388, 0.52190166]])"
      ]
     },
     "execution_count": 126,
     "metadata": {},
     "output_type": "execute_result"
    }
   ],
   "source": [
    "w = np.random.random(size=(3, 2))\n",
    "w"
   ]
  },
  {
   "cell_type": "markdown",
   "id": "e7cc62ff",
   "metadata": {},
   "source": [
    "У нас есть X, у нас есть W, давайте их женить"
   ]
  },
  {
   "cell_type": "code",
   "execution_count": 129,
   "id": "102c2db2",
   "metadata": {},
   "outputs": [
    {
     "data": {
      "text/plain": [
       "(10000, 2)"
      ]
     },
     "execution_count": 129,
     "metadata": {},
     "output_type": "execute_result"
    }
   ],
   "source": [
    "x_total.shape"
   ]
  },
  {
   "cell_type": "code",
   "execution_count": 130,
   "id": "7ee8976d",
   "metadata": {},
   "outputs": [
    {
     "data": {
      "text/plain": [
       "(3, 2)"
      ]
     },
     "execution_count": 130,
     "metadata": {},
     "output_type": "execute_result"
    }
   ],
   "source": [
    "w.shape"
   ]
  },
  {
   "cell_type": "markdown",
   "id": "2a743d73",
   "metadata": {},
   "source": [
    "Если имеем 10000 наблюдений, то после прохода через 3 нейрона у нас должна быть матрица (10000, 3).  \n",
    "Имеем матрицы (10000, 2) и (3, 2), как сделать (10000, 3)?"
   ]
  },
  {
   "cell_type": "code",
   "execution_count": 131,
   "id": "c6788d6c",
   "metadata": {},
   "outputs": [],
   "source": [
    "output = x_total @ w.T"
   ]
  },
  {
   "cell_type": "code",
   "execution_count": 132,
   "id": "4dcac963",
   "metadata": {},
   "outputs": [
    {
     "data": {
      "text/plain": [
       "array([[0.4090963 , 0.29322285, 0.48978793],\n",
       "       [0.33314965, 0.24641173, 0.41460135],\n",
       "       [0.13295705, 0.12927223, 0.22932128],\n",
       "       [0.51308519, 0.40188795, 0.68474935],\n",
       "       [0.19030335, 0.22676883, 0.41440158]])"
      ]
     },
     "execution_count": 132,
     "metadata": {},
     "output_type": "execute_result"
    }
   ],
   "source": [
    "output[:5]"
   ]
  },
  {
   "cell_type": "code",
   "execution_count": 133,
   "id": "8947849e",
   "metadata": {},
   "outputs": [
    {
     "data": {
      "text/plain": [
       "(10000, 3)"
      ]
     },
     "execution_count": 133,
     "metadata": {},
     "output_type": "execute_result"
    }
   ],
   "source": [
    "output.shape"
   ]
  },
  {
   "cell_type": "markdown",
   "id": "90aed478",
   "metadata": {},
   "source": [
    "#### Дальше имеем 2 нейрона, где каждый получает сигнал от 3 сзадистоящих.  \n",
    "Значит"
   ]
  },
  {
   "cell_type": "code",
   "execution_count": 134,
   "id": "f24cd80d",
   "metadata": {},
   "outputs": [],
   "source": [
    "w2 = np.random.random(size=(2, 3))"
   ]
  },
  {
   "cell_type": "markdown",
   "id": "3b122cb6",
   "metadata": {},
   "source": [
    "Как посчитать значения на нейронах дальше?  \n",
    "Опять умножением"
   ]
  },
  {
   "cell_type": "code",
   "execution_count": 135,
   "id": "8b654adb",
   "metadata": {},
   "outputs": [
    {
     "data": {
      "text/plain": [
       "(10000, 3)"
      ]
     },
     "execution_count": 135,
     "metadata": {},
     "output_type": "execute_result"
    }
   ],
   "source": [
    "output.shape"
   ]
  },
  {
   "cell_type": "code",
   "execution_count": 136,
   "id": "12c2cb55",
   "metadata": {},
   "outputs": [
    {
     "data": {
      "text/plain": [
       "(2, 3)"
      ]
     },
     "execution_count": 136,
     "metadata": {},
     "output_type": "execute_result"
    }
   ],
   "source": [
    "w2.shape"
   ]
  },
  {
   "cell_type": "markdown",
   "id": "37308260",
   "metadata": {},
   "source": [
    "Из (10000, 3) и (2, 3) должны получить (10000, 2)."
   ]
  },
  {
   "cell_type": "code",
   "execution_count": 137,
   "id": "60b31136",
   "metadata": {},
   "outputs": [],
   "source": [
    "output_2 = output @ w2.T"
   ]
  },
  {
   "cell_type": "code",
   "execution_count": 138,
   "id": "1ec9b0dd",
   "metadata": {},
   "outputs": [
    {
     "data": {
      "text/plain": [
       "array([[0.55849295, 0.95014173],\n",
       "       [0.46375694, 0.79441937],\n",
       "       [0.2213727 , 0.40089042],\n",
       "       [0.74050174, 1.2841754 ],\n",
       "       [0.36582636, 0.68694208],\n",
       "       [0.81228614, 1.49787947],\n",
       "       [0.68800015, 1.29411134],\n",
       "       [0.56017529, 1.04589961],\n",
       "       [0.63205011, 1.20866916],\n",
       "       [0.40056968, 0.71760888]])"
      ]
     },
     "execution_count": 138,
     "metadata": {},
     "output_type": "execute_result"
    }
   ],
   "source": [
    "output_2[:10]"
   ]
  },
  {
   "cell_type": "code",
   "execution_count": 139,
   "id": "e9a95677",
   "metadata": {},
   "outputs": [
    {
     "data": {
      "text/plain": [
       "(10000, 2)"
      ]
     },
     "execution_count": 139,
     "metadata": {},
     "output_type": "execute_result"
    }
   ],
   "source": [
    "output_2.shape"
   ]
  },
  {
   "cell_type": "markdown",
   "id": "da1f351a",
   "metadata": {},
   "source": [
    "#### В самом конце у нас один нейрон, значит"
   ]
  },
  {
   "cell_type": "code",
   "execution_count": 140,
   "id": "5e60c0bc",
   "metadata": {},
   "outputs": [],
   "source": [
    "w3 = np.random.random(size=(1, 2))\n",
    "output_3 = output_2 @ w3.T"
   ]
  },
  {
   "cell_type": "code",
   "execution_count": 141,
   "id": "08cde2d6",
   "metadata": {},
   "outputs": [
    {
     "data": {
      "text/plain": [
       "array([[0.79364923],\n",
       "       [0.66304034],\n",
       "       [0.33247939],\n",
       "       [1.07027252],\n",
       "       [0.56746222],\n",
       "       [1.23979095],\n",
       "       [1.06883114],\n",
       "       [0.86451861],\n",
       "       [0.99650545],\n",
       "       [0.59586921]])"
      ]
     },
     "execution_count": 141,
     "metadata": {},
     "output_type": "execute_result"
    }
   ],
   "source": [
    "output_3[:10]"
   ]
  },
  {
   "cell_type": "code",
   "execution_count": 142,
   "id": "3e5be307",
   "metadata": {},
   "outputs": [
    {
     "data": {
      "text/plain": [
       "(10000, 1)"
      ]
     },
     "execution_count": 142,
     "metadata": {},
     "output_type": "execute_result"
    }
   ],
   "source": [
    "output_3.shape"
   ]
  },
  {
   "cell_type": "markdown",
   "id": "dcd8c0b9",
   "metadata": {},
   "source": [
    "Бинго, мы получили 1 чиселко для каждого из 10000 наблюдений в выборке."
   ]
  },
  {
   "cell_type": "markdown",
   "id": "21286e58",
   "metadata": {},
   "source": [
    "![](http://memesmix.net/media/created/l7sksl.jpg)"
   ]
  },
  {
   "cell_type": "markdown",
   "id": "d6feb735",
   "metadata": {},
   "source": [
    "## Это здорово, но как сети учатся?  \n",
    "Это мы узнаем на следующем семинаре"
   ]
  }
 ],
 "metadata": {
  "kernelspec": {
   "display_name": "Python 3 (ipykernel)",
   "language": "python",
   "name": "python3"
  },
  "language_info": {
   "codemirror_mode": {
    "name": "ipython",
    "version": 3
   },
   "file_extension": ".py",
   "mimetype": "text/x-python",
   "name": "python",
   "nbconvert_exporter": "python",
   "pygments_lexer": "ipython3",
   "version": "3.9.13"
  }
 },
 "nbformat": 4,
 "nbformat_minor": 5
}
