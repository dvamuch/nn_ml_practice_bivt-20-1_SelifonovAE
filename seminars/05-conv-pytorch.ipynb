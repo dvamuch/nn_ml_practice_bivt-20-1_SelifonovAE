{
 "cells": [
  {
   "cell_type": "code",
   "execution_count": null,
   "metadata": {
    "id": "C2TnxZE-ltje"
   },
   "outputs": [],
   "source": [
    "import torch\n",
    "from torch.utils.data import Dataset\n",
    "from torchvision import datasets\n",
    "from torchvision.transforms import ToTensor, Normalize, Lambda\n",
    "import matplotlib.pyplot as plt"
   ]
  },
  {
   "cell_type": "markdown",
   "metadata": {
    "id": "kcdCix5DmOI9"
   },
   "source": [
    "# 1. Грузим данные"
   ]
  },
  {
   "cell_type": "code",
   "execution_count": null,
   "metadata": {
    "colab": {
     "base_uri": "https://localhost:8080/"
    },
    "id": "HQpmLRDilx97",
    "outputId": "4c375470-7da2-41f0-8d48-4ae8d29ae4f7"
   },
   "outputs": [],
   "source": [
    "training_data = datasets.FashionMNIST(\n",
    "    root=\"data\",\n",
    "    train=True,\n",
    "    download=True,\n",
    "    transform=ToTensor()\n",
    ")\n",
    "\n",
    "test_data = datasets.FashionMNIST(\n",
    "    root=\"data\",\n",
    "    train=False,\n",
    "    download=True,\n",
    "    transform=ToTensor()\n",
    ")"
   ]
  },
  {
   "cell_type": "code",
   "execution_count": null,
   "metadata": {
    "colab": {
     "base_uri": "https://localhost:8080/",
     "height": 675
    },
    "id": "wXER33NGluI-",
    "outputId": "472afe0f-4220-4e58-b706-4b35d40b7f7f"
   },
   "outputs": [],
   "source": [
    "labels_map = {\n",
    "    0: \"T-Shirt\",\n",
    "    1: \"Trouser\",\n",
    "    2: \"Pullover\",\n",
    "    3: \"Dress\",\n",
    "    4: \"Coat\",\n",
    "    5: \"Sandal\",\n",
    "    6: \"Shirt\",\n",
    "    7: \"Sneaker\",\n",
    "    8: \"Bag\",\n",
    "    9: \"Ankle Boot\",\n",
    "}\n",
    "figure = plt.figure(figsize=(8, 8))\n",
    "cols, rows = 3, 3\n",
    "for i in range(1, cols * rows + 1):\n",
    "    sample_idx = torch.randint(len(training_data), size=(1,)).item()\n",
    "    img, label = training_data[sample_idx]\n",
    "    figure.add_subplot(rows, cols, i)\n",
    "    plt.title(labels_map[label])\n",
    "    plt.axis(\"off\")\n",
    "    plt.imshow(img.squeeze(), cmap=\"gray\")\n",
    "plt.show()"
   ]
  },
  {
   "cell_type": "code",
   "execution_count": null,
   "metadata": {
    "colab": {
     "base_uri": "https://localhost:8080/"
    },
    "id": "1M-6Jxg-mQrB",
    "outputId": "9cd7277f-b475-417a-f09b-5fe9485cd13d"
   },
   "outputs": [],
   "source": [
    "X_sample, y_sample = training_data[0]\n",
    "print(X_sample)\n",
    "print(y_sample)"
   ]
  },
  {
   "cell_type": "code",
   "execution_count": null,
   "metadata": {
    "colab": {
     "base_uri": "https://localhost:8080/"
    },
    "id": "kOemVi3RmWha",
    "outputId": "d457cf77-4fab-4b9e-9e8e-a150336258de"
   },
   "outputs": [],
   "source": [
    "X_sample.shape"
   ]
  },
  {
   "cell_type": "markdown",
   "metadata": {
    "id": "i2fC6un4mcXA"
   },
   "source": [
    "# Создаем собственный датасет"
   ]
  },
  {
   "cell_type": "code",
   "execution_count": null,
   "metadata": {
    "id": "j6MnbxUAmYY9"
   },
   "outputs": [],
   "source": [
    "import pandas as pd\n",
    "import numpy as np\n",
    "\n",
    "\n",
    "class CustomImageDataset(Dataset):\n",
    "    def __init__(self, data_file, transform=None, target_transform=None):\n",
    "        self.data = pd.read_csv(data_file)\n",
    "        self.transform = transform\n",
    "        self.target_transform = target_transform\n",
    "\n",
    "    def __len__(self):\n",
    "        return self.data.shape[0]\n",
    "\n",
    "    def __getitem__(self, idx):\n",
    "        image = self.data.iloc[idx, 1:].values.reshape(28, 28).astype(np.uint8)\n",
    "        label = self.data.iloc[idx, 0]\n",
    "        if self.transform:\n",
    "            image = self.transform(image)\n",
    "        if self.target_transform:\n",
    "            label = self.target_transform(label)\n",
    "        return image, label"
   ]
  },
  {
   "cell_type": "code",
   "execution_count": null,
   "metadata": {
    "id": "rDOkvQhemeXm"
   },
   "outputs": [],
   "source": [
    "!wget -q https://media.githubusercontent.com/media/fpleoni/fashion_mnist/master/fashion-mnist_train.csv\n",
    "!wget -q https://media.githubusercontent.com/media/fpleoni/fashion_mnist/master/fashion-mnist_test.csv"
   ]
  },
  {
   "cell_type": "code",
   "execution_count": null,
   "metadata": {
    "id": "IUgC4xSdmhOT"
   },
   "outputs": [],
   "source": [
    "train = CustomImageDataset('./fashion-mnist_train.csv', \n",
    "                           transform=ToTensor(), \n",
    "                           target_transform=Lambda(lambda y: torch.zeros(10, dtype=torch.float).scatter_(0, torch.tensor(y), value=1)))\n",
    "test = CustomImageDataset('./fashion-mnist_test.csv', \n",
    "                          transform=ToTensor(),\n",
    "                          target_transform=Lambda(lambda y: torch.zeros(10, dtype=torch.float).scatter_(0, torch.tensor(y), value=1)))"
   ]
  },
  {
   "cell_type": "code",
   "execution_count": null,
   "metadata": {
    "id": "1F61vUulmkg4"
   },
   "outputs": [],
   "source": [
    "X_sample, y_sample = train[0]"
   ]
  },
  {
   "cell_type": "code",
   "execution_count": null,
   "metadata": {
    "colab": {
     "base_uri": "https://localhost:8080/"
    },
    "id": "C6UXzCBwmpSv",
    "outputId": "9dd30147-74d1-4a86-9d5c-5e26403973fa"
   },
   "outputs": [],
   "source": [
    "X_sample"
   ]
  },
  {
   "cell_type": "code",
   "execution_count": null,
   "metadata": {
    "colab": {
     "base_uri": "https://localhost:8080/"
    },
    "id": "eX8rEsjNmtQu",
    "outputId": "fe49f5f6-c325-4967-a998-6150868ab193"
   },
   "outputs": [],
   "source": [
    "X_sample.shape"
   ]
  },
  {
   "cell_type": "code",
   "execution_count": null,
   "metadata": {
    "colab": {
     "base_uri": "https://localhost:8080/"
    },
    "id": "QSAOIdIcmw2T",
    "outputId": "a0cc0025-6d59-4a8a-e745-b890f67f221f"
   },
   "outputs": [],
   "source": [
    "y_sample"
   ]
  },
  {
   "cell_type": "code",
   "execution_count": null,
   "metadata": {
    "colab": {
     "base_uri": "https://localhost:8080/"
    },
    "id": "19uEJc0Gmu1o",
    "outputId": "6a583c5b-fd1f-45c4-8d3b-7ca91d4725d6"
   },
   "outputs": [],
   "source": [
    "y_sample.shape"
   ]
  },
  {
   "cell_type": "markdown",
   "metadata": {
    "id": "IrjZGte8m1cT"
   },
   "source": [
    "# Познаем даталоадеры"
   ]
  },
  {
   "cell_type": "code",
   "execution_count": null,
   "metadata": {
    "id": "ESoNSkKxmv21"
   },
   "outputs": [],
   "source": [
    "from torch.utils.data import DataLoader\n",
    "\n",
    "train_dataloader = DataLoader(train, batch_size=64, shuffle=True)\n",
    "test_dataloader = DataLoader(test, batch_size=64, shuffle=True)"
   ]
  },
  {
   "cell_type": "code",
   "execution_count": null,
   "metadata": {
    "colab": {
     "base_uri": "https://localhost:8080/",
     "height": 485
    },
    "id": "PTlImYTLm3yu",
    "outputId": "85004172-7c3e-4d3a-9eba-46286ff5bc58"
   },
   "outputs": [],
   "source": [
    "train_features, train_labels = next(iter(train_dataloader))\n",
    "print(f\"Feature batch shape: {train_features.size()}\")\n",
    "print(f\"Labels batch shape: {train_labels.size()}\")\n",
    "img = train_features[0].squeeze()\n",
    "label = train_labels[0]\n",
    "plt.imshow(img, cmap=\"gray\")\n",
    "plt.show()\n",
    "print(f\"Label: {label}\")"
   ]
  },
  {
   "cell_type": "markdown",
   "metadata": {
    "id": "deRz5vKPnB32"
   },
   "source": [
    "# 2. Собираем нейросеть"
   ]
  },
  {
   "cell_type": "code",
   "execution_count": null,
   "metadata": {
    "colab": {
     "base_uri": "https://localhost:8080/"
    },
    "id": "BUGG29tRm8gJ",
    "outputId": "70d17e9d-fa1f-45d0-fc9b-5050890b8b61"
   },
   "outputs": [],
   "source": [
    "device = \"cuda\" if torch.cuda.is_available() else \"cpu\"\n",
    "print(f\"Using {device} device\")"
   ]
  },
  {
   "cell_type": "code",
   "execution_count": null,
   "metadata": {
    "id": "DlJzdpk4nI9V"
   },
   "outputs": [],
   "source": [
    "from torch import nn\n",
    "\n",
    "\n",
    "class NeuralNetwork(nn.Module):\n",
    "    def __init__(self):\n",
    "        super(NeuralNetwork, self).__init__()\n",
    "        self.flatten = nn.Flatten()\n",
    "        self.linear_relu_stack = nn.Sequential(\n",
    "            nn.Linear(28*28, 512),\n",
    "            nn.ReLU(),\n",
    "            nn.Linear(512, 512),\n",
    "            nn.ReLU(),\n",
    "            nn.Linear(512, 10),\n",
    "        )\n",
    "\n",
    "    def forward(self, x):\n",
    "        x = self.flatten(x)\n",
    "        logits = self.linear_relu_stack(x)\n",
    "        return logits"
   ]
  },
  {
   "cell_type": "code",
   "execution_count": null,
   "metadata": {
    "colab": {
     "base_uri": "https://localhost:8080/"
    },
    "id": "LbvvlGernPMe",
    "outputId": "8d1b038b-fbe7-4dbc-d5d3-4c55cdd91e34"
   },
   "outputs": [],
   "source": [
    "model = NeuralNetwork().to(device)\n",
    "print(model)"
   ]
  },
  {
   "cell_type": "code",
   "execution_count": null,
   "metadata": {
    "colab": {
     "base_uri": "https://localhost:8080/"
    },
    "id": "U9JapVV1nQtj",
    "outputId": "5308dd2c-4384-43c7-c5f4-393b809dfc68"
   },
   "outputs": [],
   "source": [
    "X = torch.rand(1, 28, 28, device=device)\n",
    "logits = model(X)\n",
    "pred_probab = nn.Softmax(dim=1)(logits)\n",
    "y_pred = pred_probab.argmax(1)\n",
    "print(f\"Predicted class: {y_pred}\")"
   ]
  },
  {
   "cell_type": "markdown",
   "metadata": {
    "id": "W3DdCLG6nY5C"
   },
   "source": [
    "# Смотрим детально в слои сети"
   ]
  },
  {
   "cell_type": "code",
   "execution_count": null,
   "metadata": {
    "colab": {
     "base_uri": "https://localhost:8080/"
    },
    "id": "pcdgEj5hnTRa",
    "outputId": "93e2bc8c-7347-4e34-8313-f454f4a9a1ee"
   },
   "outputs": [],
   "source": [
    "input_image = torch.rand(3, 28, 28)\n",
    "print(input_image.size())"
   ]
  },
  {
   "cell_type": "code",
   "execution_count": null,
   "metadata": {
    "colab": {
     "base_uri": "https://localhost:8080/"
    },
    "id": "0SpVcN0CndEv",
    "outputId": "6362fcf9-8eca-4bc2-ce74-ef0bb22d1846"
   },
   "outputs": [],
   "source": [
    "input_image"
   ]
  },
  {
   "cell_type": "code",
   "execution_count": null,
   "metadata": {
    "colab": {
     "base_uri": "https://localhost:8080/"
    },
    "id": "AspPV1qWnea8",
    "outputId": "58bacc30-46cf-4405-9b48-646588f3b2cf"
   },
   "outputs": [],
   "source": [
    "flatten = nn.Flatten()\n",
    "flat_image = flatten(input_image)\n",
    "print(flat_image.size())"
   ]
  },
  {
   "cell_type": "code",
   "execution_count": null,
   "metadata": {
    "colab": {
     "base_uri": "https://localhost:8080/"
    },
    "id": "RGyn3d5fngG_",
    "outputId": "81e1e409-d81e-4200-e374-717189976438"
   },
   "outputs": [],
   "source": [
    "flat_image"
   ]
  },
  {
   "cell_type": "code",
   "execution_count": null,
   "metadata": {
    "colab": {
     "base_uri": "https://localhost:8080/"
    },
    "id": "kdrt-XYxnhjW",
    "outputId": "8f593a05-a447-462b-dcb7-394b0b1eb5b2"
   },
   "outputs": [],
   "source": [
    "layer1 = nn.Linear(in_features=28*28, out_features=20)\n",
    "hidden1 = layer1(flat_image)\n",
    "print(hidden1.size())"
   ]
  },
  {
   "cell_type": "code",
   "execution_count": null,
   "metadata": {
    "colab": {
     "base_uri": "https://localhost:8080/"
    },
    "id": "zSRoFz7gnjEh",
    "outputId": "cb9b2d05-f6ba-4b60-9c06-7b5526fd4c4b"
   },
   "outputs": [],
   "source": [
    "print(f\"Before ReLU: {hidden1}\\n\\n\")\n",
    "hidden1 = nn.ReLU()(hidden1)\n",
    "print(f\"After ReLU: {hidden1}\")"
   ]
  },
  {
   "cell_type": "code",
   "execution_count": null,
   "metadata": {
    "id": "Kv3DDJ0ZnkUL"
   },
   "outputs": [],
   "source": [
    "seq_modules = nn.Sequential(\n",
    "    flatten,\n",
    "    layer1,\n",
    "    nn.ReLU(),\n",
    "    nn.Linear(20, 10)\n",
    ")\n",
    "input_image = torch.rand(3,28,28)\n",
    "logits = seq_modules(input_image)"
   ]
  },
  {
   "cell_type": "code",
   "execution_count": null,
   "metadata": {
    "colab": {
     "base_uri": "https://localhost:8080/"
    },
    "id": "N-98QT71nmEf",
    "outputId": "3e796f18-f2d1-4f6a-b8df-d966c75c7cbc"
   },
   "outputs": [],
   "source": [
    "logits.shape"
   ]
  },
  {
   "cell_type": "code",
   "execution_count": null,
   "metadata": {
    "colab": {
     "base_uri": "https://localhost:8080/"
    },
    "id": "JixGoB68nnus",
    "outputId": "20c19771-9c36-4acb-f7a9-c2e170219461"
   },
   "outputs": [],
   "source": [
    "logits"
   ]
  },
  {
   "cell_type": "code",
   "execution_count": null,
   "metadata": {
    "colab": {
     "base_uri": "https://localhost:8080/"
    },
    "id": "j3pdN0kUno4N",
    "outputId": "76b14ddd-0c99-47d1-d53e-5e7d45db967b"
   },
   "outputs": [],
   "source": [
    "softmax = nn.Softmax(dim=1)\n",
    "pred_probab = softmax(logits)\n",
    "pred_probab"
   ]
  },
  {
   "cell_type": "code",
   "execution_count": null,
   "metadata": {
    "colab": {
     "base_uri": "https://localhost:8080/"
    },
    "id": "KlEIiFszntab",
    "outputId": "d24111e4-3997-4fd6-e71b-1e47604a6b61"
   },
   "outputs": [],
   "source": [
    "pred_probab.argmax(dim=1)"
   ]
  },
  {
   "cell_type": "code",
   "execution_count": null,
   "metadata": {
    "colab": {
     "base_uri": "https://localhost:8080/"
    },
    "id": "nQyqzn-4nutW",
    "outputId": "df6417e0-c957-43ee-c5f2-397d35c05a52"
   },
   "outputs": [],
   "source": [
    "print(f\"Model structure: {model}\\n\\n\")\n",
    "\n",
    "for name, param in model.named_parameters():\n",
    "    print(f\"Layer: {name} | Size: {param.size()} | Values : {param[:2]} \\n\")"
   ]
  },
  {
   "cell_type": "markdown",
   "metadata": {
    "id": "0QVKZlkzn4Rr"
   },
   "source": [
    "# 3. Тренируем сеть"
   ]
  },
  {
   "cell_type": "markdown",
   "metadata": {
    "id": "pMwFpLXwn7gs"
   },
   "source": [
    "#### Инициализируем модель"
   ]
  },
  {
   "cell_type": "code",
   "execution_count": null,
   "metadata": {
    "id": "ULX2YNT4nwBc"
   },
   "outputs": [],
   "source": [
    "model = NeuralNetwork()"
   ]
  },
  {
   "cell_type": "markdown",
   "metadata": {
    "id": "KnqphJmAoBOw"
   },
   "source": [
    "#### Инициализируем параметры"
   ]
  },
  {
   "cell_type": "code",
   "execution_count": null,
   "metadata": {
    "id": "VX3myX3DoNuF"
   },
   "outputs": [],
   "source": [
    "learning_rate = 1e-3\n",
    "batch_size = 64\n",
    "epochs = 5"
   ]
  },
  {
   "cell_type": "markdown",
   "metadata": {
    "id": "xRqkQmupoDCF"
   },
   "source": [
    "#### Инициализируем функцию потерь"
   ]
  },
  {
   "cell_type": "code",
   "execution_count": null,
   "metadata": {
    "id": "WkJ67sdIoPar"
   },
   "outputs": [],
   "source": [
    "loss_fn = nn.CrossEntropyLoss()"
   ]
  },
  {
   "cell_type": "markdown",
   "metadata": {
    "id": "fpt30oQRoGzK"
   },
   "source": [
    "#### Инициализируем оптимизатор"
   ]
  },
  {
   "cell_type": "code",
   "execution_count": null,
   "metadata": {
    "id": "keyOFqypoRby"
   },
   "outputs": [],
   "source": [
    "optimizer = torch.optim.SGD(model.parameters(), lr=learning_rate)"
   ]
  },
  {
   "cell_type": "markdown",
   "metadata": {
    "id": "39xY4Pj3oJiI"
   },
   "source": [
    "#### Описываем функции тренировки и тестирования модели"
   ]
  },
  {
   "cell_type": "code",
   "execution_count": null,
   "metadata": {
    "id": "TcQgjC-UoVef"
   },
   "outputs": [],
   "source": [
    "def train_loop(dataloader, model, loss_fn, optimizer):\n",
    "    size = len(dataloader.dataset)\n",
    "    for batch, (X, y) in enumerate(dataloader):\n",
    "        # Compute prediction and loss\n",
    "        pred = model(X)\n",
    "        loss = loss_fn(pred, y)\n",
    "\n",
    "        # Backpropagation\n",
    "        optimizer.zero_grad()\n",
    "        loss.backward()\n",
    "        optimizer.step()\n",
    "\n",
    "        if batch % 100 == 0:\n",
    "            loss, current = loss.item(), batch * len(X)\n",
    "            print(f\"loss: {loss:>7f}  [{current:>5d}/{size:>5d}]\")\n",
    "\n",
    "\n",
    "def test_loop(dataloader, model, loss_fn):\n",
    "    size = len(dataloader.dataset)\n",
    "    num_batches = len(dataloader)\n",
    "    test_loss, correct = 0, 0\n",
    "\n",
    "    with torch.no_grad():\n",
    "        for X, y in dataloader:\n",
    "            pred = model(X)\n",
    "            test_loss += loss_fn(pred, y).item()\n",
    "            correct += (pred.argmax(1) == y.argmax(1)).type(torch.float).sum().item()\n",
    "\n",
    "    test_loss /= num_batches\n",
    "    correct /= size\n",
    "    print(f\"Test Error: \\n Accuracy: {(100*correct):>0.1f}%, Avg loss: {test_loss:>8f} \\n\")"
   ]
  },
  {
   "cell_type": "code",
   "execution_count": null,
   "metadata": {
    "colab": {
     "base_uri": "https://localhost:8080/"
    },
    "id": "FgQ6BM0FoA4D",
    "outputId": "f94b3017-3e10-4ba9-dd22-2d72b132e93e"
   },
   "outputs": [],
   "source": [
    "epochs = 10\n",
    "for t in range(epochs):\n",
    "    print(f\"Epoch {t+1}\\n-------------------------------\")\n",
    "    train_loop(train_dataloader, model, loss_fn, optimizer)\n",
    "    test_loop(test_dataloader, model, loss_fn)\n",
    "print(\"Done!\")"
   ]
  },
  {
   "cell_type": "markdown",
   "metadata": {
    "id": "Kvpg-8lhpiAQ"
   },
   "source": [
    "# 4. Изучаем свертки"
   ]
  },
  {
   "cell_type": "markdown",
   "metadata": {
    "id": "_EdW_t0ip38_"
   },
   "source": [
    "![](https://distillery.com/wp-content/uploads/3-1.png)"
   ]
  },
  {
   "cell_type": "markdown",
   "metadata": {
    "id": "OgEneAecqOtc"
   },
   "source": [
    "![](https://wikidocs.net/images/page/164365/Fig_04_cnn_filter.png)"
   ]
  },
  {
   "cell_type": "markdown",
   "metadata": {
    "id": "yMtgBh_vqpUA"
   },
   "source": [
    "![](https://blog.kakaocdn.net/dn/lgBRU/btqWWtkNJhM/DsJwc0PXrbhS0n33Vqzgm1/img.gif)"
   ]
  },
  {
   "cell_type": "markdown",
   "metadata": {
    "id": "F4CbBV9_rKk2"
   },
   "source": [
    "![](https://www.mobiquity.com/hs-fs/hubfs/CNN03.gif?width=640&name=CNN03.gif)"
   ]
  },
  {
   "cell_type": "markdown",
   "metadata": {
    "id": "92N2QyQ1s0NZ"
   },
   "source": [
    "![](https://i.stack.imgur.com/9bi5k.gif)"
   ]
  },
  {
   "cell_type": "code",
   "execution_count": null,
   "metadata": {
    "id": "TTOIfZQqtBaj"
   },
   "outputs": [],
   "source": [
    "import matplotlib.pyplot as plt\n",
    "%matplotlib inline\n",
    "import numpy as np\n",
    "import cv2\n",
    "import sklearn\n",
    "import PIL\n",
    "import torch\n",
    "import torchvision\n",
    "\n",
    "\n",
    "def show_image(image, figsize=(16, 9), reverse=True):\n",
    "    plt.figure(figsize=figsize)\n",
    "    if reverse:\n",
    "        plt.imshow(image[...,::-1])\n",
    "    else:\n",
    "        plt.imshow(image)\n",
    "    plt.axis('off')\n",
    "    plt.show()\n",
    "    \n",
    "    \n",
    "def show_grayscale_image(image, figsize=(16, 9)):\n",
    "    plt.figure(figsize=figsize)\n",
    "    plt.imshow(image, cmap='gray')\n",
    "    plt.axis('off')\n",
    "    plt.show()"
   ]
  },
  {
   "cell_type": "code",
   "execution_count": null,
   "metadata": {
    "colab": {
     "base_uri": "https://localhost:8080/"
    },
    "id": "WPM9BBWWtBXu",
    "outputId": "a0948b92-4f3b-4d3d-b6c7-e5f51d5adcbb"
   },
   "outputs": [],
   "source": [
    "layer = torch.nn.Conv2d(1, 1, kernel_size=(3, 3))\n",
    "layer.weight"
   ]
  },
  {
   "cell_type": "code",
   "execution_count": null,
   "metadata": {
    "colab": {
     "base_uri": "https://localhost:8080/"
    },
    "id": "Z_GmgjXitBQJ",
    "outputId": "ed873acd-1748-4413-d9a1-690ed1c09fdb"
   },
   "outputs": [],
   "source": [
    "# вес доступен через .weight.data\n",
    "layer.weight.data = torch.ones_like(layer.weight.data) \n",
    "layer.weight.data /= torch.sum(layer.weight.data)\n",
    "layer.weight.data"
   ]
  },
  {
   "cell_type": "code",
   "execution_count": null,
   "metadata": {
    "colab": {
     "base_uri": "https://localhost:8080/"
    },
    "id": "gOs43mwotUQi",
    "outputId": "f50c0658-d245-4b1d-884d-e212b8536b9c"
   },
   "outputs": [],
   "source": [
    "layer.bias.data = torch.zeros_like(layer.bias.data)\n",
    "layer.bias.data"
   ]
  },
  {
   "cell_type": "code",
   "execution_count": null,
   "metadata": {
    "colab": {
     "base_uri": "https://localhost:8080/"
    },
    "id": "j8RckTYXtUN4",
    "outputId": "79c6e394-a129-47dd-c892-9edc6548a390"
   },
   "outputs": [],
   "source": [
    "layer.train()\n",
    "layer.eval()"
   ]
  },
  {
   "cell_type": "code",
   "execution_count": null,
   "metadata": {
    "colab": {
     "base_uri": "https://localhost:8080/"
    },
    "id": "vTUDfjwRtUKz",
    "outputId": "8e9bc7bc-af71-4e1f-e6a0-8cdbabf6973c"
   },
   "outputs": [],
   "source": [
    "input_tensor = torch.arange(9).reshape(1, 1, 3, 3)\n",
    "input_tensor.shape"
   ]
  },
  {
   "cell_type": "markdown",
   "metadata": {
    "id": "6dQiPboYthEZ"
   },
   "source": [
    "1 - размер батча 1 - кол-во каналов (1, если черно-белый, 3, если цветной) 3 - высота 3 - ширина"
   ]
  },
  {
   "cell_type": "code",
   "execution_count": null,
   "metadata": {
    "colab": {
     "base_uri": "https://localhost:8080/"
    },
    "id": "C6tkX9oHtdZZ",
    "outputId": "2b2ff59f-314b-4997-d30e-c99b7d34c388"
   },
   "outputs": [],
   "source": [
    "input_tensor"
   ]
  },
  {
   "cell_type": "code",
   "execution_count": null,
   "metadata": {
    "id": "6R7so7d_tUGq"
   },
   "outputs": [],
   "source": [
    "output_tensor = layer(input_tensor.float())"
   ]
  },
  {
   "cell_type": "code",
   "execution_count": null,
   "metadata": {
    "colab": {
     "base_uri": "https://localhost:8080/"
    },
    "id": "QpxTwd7utlLf",
    "outputId": "b2ca204b-9211-4af7-d87a-04fc626c7028"
   },
   "outputs": [],
   "source": [
    "output_tensor"
   ]
  },
  {
   "cell_type": "markdown",
   "metadata": {
    "id": "qQsr-liGtqQC"
   },
   "source": [
    "## Какие бывают фильтры"
   ]
  },
  {
   "cell_type": "code",
   "execution_count": null,
   "metadata": {
    "id": "seKMRakMtoFp"
   },
   "outputs": [],
   "source": [
    "from urllib.request import urlopen\n",
    "\n",
    "\n",
    "req = urlopen('https://images.unsplash.com/photo-1608848461950-0fe51dfc41cb?ixlib=rb-4.0.3&ixid=MnwxMjA3fDB8MHxleHBsb3JlLWZlZWR8M3x8fGVufDB8fHx8&w=1000&q=80')\n",
    "arr = np.asarray(bytearray(req.read()), dtype=np.uint8)\n",
    "img = cv2.imdecode(arr, 0)"
   ]
  },
  {
   "cell_type": "code",
   "execution_count": null,
   "metadata": {
    "colab": {
     "base_uri": "https://localhost:8080/"
    },
    "id": "JIgjf8UouPEi",
    "outputId": "78829a14-d5b8-4562-a319-a0ff57904701"
   },
   "outputs": [],
   "source": [
    "img.shape"
   ]
  },
  {
   "cell_type": "code",
   "execution_count": null,
   "metadata": {
    "colab": {
     "base_uri": "https://localhost:8080/",
     "height": 730
    },
    "id": "5HDtVCbZuHkP",
    "outputId": "fd1ee7df-691b-4ed7-e887-ac4cfc21d8e0"
   },
   "outputs": [],
   "source": [
    "show_grayscale_image(img)"
   ]
  },
  {
   "cell_type": "code",
   "execution_count": null,
   "metadata": {
    "colab": {
     "base_uri": "https://localhost:8080/"
    },
    "id": "OFv9SGOTuWoI",
    "outputId": "67f6e4ff-5ddb-4571-a056-3f5e412c9aba"
   },
   "outputs": [],
   "source": [
    "to_tensor = torchvision.transforms.ToTensor()\n",
    "img_tensor = to_tensor(img)\n",
    "img_tensor"
   ]
  },
  {
   "cell_type": "code",
   "execution_count": null,
   "metadata": {
    "colab": {
     "base_uri": "https://localhost:8080/"
    },
    "id": "ODcuoSOetoCL",
    "outputId": "36c3a9cf-1a74-4053-fefa-bd0e0bffcb00"
   },
   "outputs": [],
   "source": [
    "img_tensor.shape"
   ]
  },
  {
   "cell_type": "code",
   "execution_count": null,
   "metadata": {
    "id": "8Jxxcg5PuuHi"
   },
   "outputs": [],
   "source": [
    "# делаем так, чтобы нейросеть могла считать изображение\n",
    "\n",
    "img_tensor = img_tensor.reshape((1, 1, 1500, 1000))"
   ]
  },
  {
   "cell_type": "code",
   "execution_count": null,
   "metadata": {
    "id": "vsiY4WaIuuE7"
   },
   "outputs": [],
   "source": [
    "kernel_size = 50\n",
    "layer = torch.nn.Conv2d(1, 1, kernel_size=kernel_size)\n",
    "\n",
    "# обновляем веса свертки\n",
    "\n",
    "layer.weight.data = torch.ones_like(layer.weight.data) \n",
    "layer.weight.data /= torch.sum(layer.weight.data)"
   ]
  },
  {
   "cell_type": "code",
   "execution_count": null,
   "metadata": {
    "colab": {
     "base_uri": "https://localhost:8080/"
    },
    "id": "GP_NyKtquuCj",
    "outputId": "c826f790-ba58-4657-c39b-1bd55c8c851c"
   },
   "outputs": [],
   "source": [
    "layer.weight.data"
   ]
  },
  {
   "cell_type": "code",
   "execution_count": null,
   "metadata": {
    "colab": {
     "base_uri": "https://localhost:8080/"
    },
    "id": "qNGJFP2Kut_-",
    "outputId": "d3498cdb-d94e-47f3-bab5-001a3ead569a"
   },
   "outputs": [],
   "source": [
    "output_tensor = layer(img_tensor)\n",
    "output_tensor.shape"
   ]
  },
  {
   "cell_type": "code",
   "execution_count": null,
   "metadata": {
    "id": "39OGMj_vvCfu"
   },
   "outputs": [],
   "source": [
    "import torchvision.transforms as transforms\n",
    "\n",
    "# функция, переводящее тензор в PIL-изображение\n",
    "to_pil_image = transforms.ToPILImage()\n",
    "output_img = to_pil_image(output_tensor.squeeze(0))"
   ]
  },
  {
   "cell_type": "code",
   "execution_count": null,
   "metadata": {
    "colab": {
     "base_uri": "https://localhost:8080/",
     "height": 730
    },
    "id": "kIvUJM6XvFbx",
    "outputId": "0758912a-939a-4c57-a774-e12361e951a9"
   },
   "outputs": [],
   "source": [
    "show_grayscale_image(output_img)"
   ]
  },
  {
   "cell_type": "code",
   "execution_count": null,
   "metadata": {
    "id": "TfX7BDWlwAQR"
   },
   "outputs": [],
   "source": [
    "def show_image_with_kernel(img_input, kernel):\n",
    "    layer = torch.nn.Conv2d(1, 1, kernel_size=3)\n",
    "    layer.weight.data = our_kernel.reshape(1, 1, 3, 3)\n",
    "    output_tensor = layer(img_input)\n",
    "    output_img = to_pil_image(output_tensor.squeeze(0))\n",
    "    show_grayscale_image(output_img)"
   ]
  },
  {
   "cell_type": "code",
   "execution_count": null,
   "metadata": {
    "colab": {
     "base_uri": "https://localhost:8080/",
     "height": 730
    },
    "id": "ylg1iyfKvFZM",
    "outputId": "a198f54f-0096-45e5-fd17-279d3e42855f"
   },
   "outputs": [],
   "source": [
    "our_kernel = torch.tensor([[0, -1, 0], \n",
    "                           [-1, 4, -1], \n",
    "                           [0, -1, 0]], dtype=torch.float32)\n",
    "our_kernel = our_kernel.reshape(1, 1, 3, 3)\n",
    "show_image_with_kernel(img_tensor, our_kernel)"
   ]
  },
  {
   "cell_type": "code",
   "execution_count": null,
   "metadata": {
    "colab": {
     "base_uri": "https://localhost:8080/",
     "height": 730
    },
    "id": "hFVr9jOtut5E",
    "outputId": "cd8ed456-cb01-4ff1-958f-39ebeb2b6dc7"
   },
   "outputs": [],
   "source": [
    "our_kernel = torch.tensor([[-1, -1, -1], \n",
    "                           [-1, 8, -1], \n",
    "                           [-1, -1, -1]], dtype=torch.float32)\n",
    "our_kernel = our_kernel.reshape(1, 1, 3, 3)\n",
    "show_image_with_kernel(img_tensor, our_kernel)"
   ]
  },
  {
   "cell_type": "code",
   "execution_count": null,
   "metadata": {
    "colab": {
     "base_uri": "https://localhost:8080/",
     "height": 730
    },
    "id": "AMz6YVAywcni",
    "outputId": "f1a98573-74fc-4f47-99c0-cb69bb9182be"
   },
   "outputs": [],
   "source": [
    "our_kernel = torch.tensor([[0, -1, 0], \n",
    "                           [-1, 5, -1], \n",
    "                           [0, -1, 0]], dtype=torch.float32)\n",
    "our_kernel = our_kernel.reshape(1, 1, 3, 3)\n",
    "show_image_with_kernel(img_tensor, our_kernel)"
   ]
  },
  {
   "cell_type": "code",
   "execution_count": null,
   "metadata": {
    "colab": {
     "base_uri": "https://localhost:8080/",
     "height": 730
    },
    "id": "raiAiIFsxUCw",
    "outputId": "27696ebc-80c8-4566-84d5-e05e5a5e42fd"
   },
   "outputs": [],
   "source": [
    "our_kernel = torch.tensor([[1, 0, 0], \n",
    "                           [0, 1, 0], \n",
    "                           [0, 0, 1]], dtype=torch.float32)\n",
    "our_kernel = our_kernel.reshape(1, 1, 3, 3)\n",
    "show_image_with_kernel(img_tensor, our_kernel)"
   ]
  },
  {
   "cell_type": "code",
   "execution_count": null,
   "metadata": {
    "colab": {
     "base_uri": "https://localhost:8080/",
     "height": 730
    },
    "id": "phUqKLQyxYz8",
    "outputId": "6d7d86e6-7a43-4123-a031-269c7e3d6c05"
   },
   "outputs": [],
   "source": [
    "our_kernel = torch.tensor([[1, 0, 1], \n",
    "                           [0, 1, 0], \n",
    "                           [1, 0, 1]], dtype=torch.float32)\n",
    "our_kernel = our_kernel.reshape(1, 1, 3, 3)\n",
    "show_image_with_kernel(img_tensor, our_kernel)"
   ]
  },
  {
   "cell_type": "markdown",
   "metadata": {
    "id": "6AekkG-9rMWo"
   },
   "source": [
    "![](https://miro.medium.com/v2/resize:fit:738/0*4tHPDjvQXX9obrhK.gif)"
   ]
  },
  {
   "cell_type": "markdown",
   "metadata": {
    "id": "aEdX3yArxq6l"
   },
   "source": [
    "![](https://qph.cf2.quoracdn.net/main-qimg-c05ec72225e19614f0cc10385d27525c)"
   ]
  },
  {
   "cell_type": "markdown",
   "metadata": {
    "id": "ACKKcetRxtJZ"
   },
   "source": [
    "![](https://blog.ca.meron.dev/images/Convolution.gif)"
   ]
  },
  {
   "cell_type": "markdown",
   "metadata": {
    "id": "ktWcuJgfx8PJ"
   },
   "source": [
    "![](https://i.stack.imgur.com/ptDPZ.gif)"
   ]
  },
  {
   "cell_type": "markdown",
   "metadata": {},
   "source": [
    "![](https://lukeguerdan.com/assets/img/TCNfigureA.png)"
   ]
  },
  {
   "cell_type": "markdown",
   "metadata": {},
   "source": [
    "![](https://theaisummer.com/static/490be17ee7f19b78003c3fdf5a6bbafc/83b75/receptive-field-in-convolutional-networks.png)"
   ]
  },
  {
   "cell_type": "markdown",
   "metadata": {},
   "source": [
    "![](https://i.ytimg.com/vi/KuXjwB4LzSA/maxresdefault.jpg)"
   ]
  },
  {
   "cell_type": "markdown",
   "metadata": {},
   "source": [
    "![](https://saturncloud.io/images/blog/a-comprehensive-guide-to-convolutional-neural-networks-the-eli5-way.jpg)"
   ]
  },
  {
   "cell_type": "markdown",
   "metadata": {
    "id": "uczspgyhybPY"
   },
   "source": [
    "![](https://learnopencv.com/wp-content/uploads/2023/01/tensorflow-keras-cnn-vgg-architecture-1024x611.png)"
   ]
  },
  {
   "cell_type": "markdown",
   "metadata": {
    "id": "mh8K09EByhA4"
   },
   "source": [
    "![](https://nico-curti.github.io/NumPyNet/NumPyNet/images/maxpool.gif)"
   ]
  },
  {
   "cell_type": "markdown",
   "metadata": {},
   "source": [
    "Визуализация сверточных слоев https://distill.pub/2017/feature-visualization/"
   ]
  },
  {
   "cell_type": "markdown",
   "metadata": {
    "id": "Xg8nJScbyte_"
   },
   "source": [
    "# Теперь пора писать свою сверточную нейросеть"
   ]
  },
  {
   "cell_type": "code",
   "execution_count": null,
   "metadata": {
    "id": "uz-wOcUkwzNn"
   },
   "outputs": [],
   "source": [
    "import torch\n",
    "import torchvision\n",
    "import torchvision.transforms as transforms\n",
    "\n",
    "\n",
    "transform = transforms.Compose(\n",
    "    [transforms.ToTensor(),\n",
    "     transforms.Normalize((0.5, 0.5, 0.5), (0.5, 0.5, 0.5))])"
   ]
  },
  {
   "cell_type": "code",
   "execution_count": null,
   "metadata": {
    "colab": {
     "base_uri": "https://localhost:8080/"
    },
    "id": "AXJnRsDrq5TP",
    "outputId": "fb9664b9-0c05-42a3-87e9-fc3e008d2207"
   },
   "outputs": [],
   "source": [
    "batch_size = 4\n",
    "\n",
    "# dataset задаёт данные\n",
    "trainset = torchvision.datasets.CIFAR10(root='./data', train=True,\n",
    "                                        download=True, transform=transform)\n",
    "# dataloader подгружает их\n",
    "trainloader = torch.utils.data.DataLoader(trainset, batch_size=batch_size,\n",
    "                                          shuffle=True, num_workers=2)\n",
    "\n",
    "testset = torchvision.datasets.CIFAR10(root='./data', train=False,\n",
    "                                       download=True, transform=transform)\n",
    "testloader = torch.utils.data.DataLoader(testset, batch_size=batch_size,\n",
    "                                         shuffle=False, num_workers=2)\n",
    "\n",
    "classes = ('plane', 'car', 'bird', 'cat',\n",
    "           'deer', 'dog', 'frog', 'horse', 'ship', 'truck')"
   ]
  },
  {
   "cell_type": "code",
   "execution_count": null,
   "metadata": {
    "colab": {
     "base_uri": "https://localhost:8080/",
     "height": 211
    },
    "id": "-P4i5s9poYKn",
    "outputId": "0659f29f-f4d2-4e4b-96f1-ca4509c4e297"
   },
   "outputs": [],
   "source": [
    "import matplotlib.pyplot as plt\n",
    "import numpy as np\n",
    "\n",
    "\n",
    "def imshow(img):\n",
    "    # убрать нормализацию\n",
    "    img = img / 2 + 0.5\n",
    "    npimg = img.numpy()\n",
    "    plt.imshow(np.transpose(npimg, (1, 2, 0)))\n",
    "    plt.show()\n",
    "\n",
    "\n",
    "# взять случайный батч изображений\n",
    "dataiter = iter(trainloader)\n",
    "images, labels = next(dataiter)\n",
    "\n",
    "imshow(torchvision.utils.make_grid(images))\n",
    "print('  '.join('{}'.format(classes[labels[j]]) for j in range(4)))"
   ]
  },
  {
   "cell_type": "code",
   "execution_count": null,
   "metadata": {
    "id": "_MifKVPGp1kd"
   },
   "outputs": [],
   "source": [
    "def train_model(net, criterion, optimizer, trainloader, num_epochs=5):\n",
    "    for epoch in range(num_epochs):\n",
    "        running_loss = 0.0\n",
    "        for i, data in enumerate(trainloader, 0):\n",
    "            inputs, labels = data\n",
    "\n",
    "            # Давайте сами напишем код тут\n",
    "            \n",
    "            optimizer.zero_grad()\n",
    "\n",
    "            outputs = net(inputs)\n",
    "            loss = criterion(outputs, labels)\n",
    "            loss.backward()\n",
    "            optimizer.step()\n",
    "\n",
    "            running_loss += loss.item()\n",
    "            if i % 2000 == 1999:\n",
    "                print('Epoch {0}/{1}, iteration {2}, loss: {3:.3f}'.format(epoch + 1, num_epochs, i + 1, \n",
    "                                                                          running_loss / 2000))\n",
    "                running_loss = 0.0\n",
    "        print()\n",
    "\n",
    "    print('Finished Training')\n",
    "    \n",
    "    return net"
   ]
  },
  {
   "cell_type": "code",
   "execution_count": null,
   "metadata": {
    "id": "X_7U0tpIzKqA"
   },
   "outputs": [],
   "source": [
    "def all_accuracy(net, testloader):\n",
    "    correct = 0\n",
    "    total = 0\n",
    "    with torch.no_grad():\n",
    "        for data in testloader:\n",
    "            images, labels = data\n",
    "            outputs = net(images)\n",
    "\n",
    "            _, predicted = torch.max(outputs.data, 1)\n",
    "            total += labels.size(0)\n",
    "            correct += (predicted == labels).sum().item()\n",
    "\n",
    "    print('Accuracy of the network on the 10000 test images: {} %'.format(\n",
    "        100 * correct / total))"
   ]
  },
  {
   "cell_type": "code",
   "execution_count": null,
   "metadata": {
    "id": "ZPZdXzdBzOBp"
   },
   "outputs": [],
   "source": [
    "def class_accuracy(net, testloader):\n",
    "    class_correct = list(0. for i in range(10))\n",
    "    class_total = list(0. for i in range(10))\n",
    "    with torch.no_grad():\n",
    "        for data in testloader:\n",
    "            images, labels = data\n",
    "            outputs = net(images)\n",
    "            _, predicted = torch.max(outputs, 1)\n",
    "            c = (predicted == labels).squeeze()\n",
    "            for i in range(4):\n",
    "                label = labels[i]\n",
    "                class_correct[label] += c[i].item()\n",
    "                class_total[label] += 1\n",
    "\n",
    "\n",
    "    for i in range(10):\n",
    "        print('Accuracy of {} : {} %'.format(\n",
    "            classes[i], 100 * class_correct[i] / class_total[i]))"
   ]
  },
  {
   "cell_type": "code",
   "execution_count": null,
   "metadata": {
    "id": "WVGXJqfXzPQM"
   },
   "outputs": [],
   "source": [
    "import torch.nn as nn\n",
    "import torch.nn.functional as F\n",
    "\n",
    "\n",
    "class FeedForwardNet(nn.Module):\n",
    "    def __init__(self):\n",
    "        super(FeedForwardNet, self).__init__()\n",
    "        self.fc1 = nn.Linear(3 * 32 * 32, 128)\n",
    "        self.fc2 = nn.Linear(128, 32)\n",
    "        self.fc3 = nn.Linear(32, 10)\n",
    "        \n",
    "    def forward(self, x):\n",
    "        x = x.view(-1, 3 * 32 * 32)\n",
    "        x = self.fc1(x)\n",
    "        x = F.relu(x)\n",
    "        x = self.fc2(x)\n",
    "        x = F.relu(x)\n",
    "        x = self.fc3(x)      \n",
    "        return x\n",
    "    \n",
    "\n",
    "net = FeedForwardNet()"
   ]
  },
  {
   "cell_type": "code",
   "execution_count": null,
   "metadata": {
    "id": "JRVl_dmVzV_l"
   },
   "outputs": [],
   "source": [
    "import torch.optim as optim\n",
    "\n",
    "criterion = nn.CrossEntropyLoss()\n",
    "optimizer = optim.SGD(net.parameters(), lr=0.001, momentum=0.9)"
   ]
  },
  {
   "cell_type": "code",
   "execution_count": null,
   "metadata": {
    "colab": {
     "base_uri": "https://localhost:8080/"
    },
    "id": "KWQpPOsyzX1t",
    "outputId": "2e1f18f8-4b6e-4df8-eab8-23227166b1a1"
   },
   "outputs": [],
   "source": [
    "net = train_model(net, criterion, optimizer, trainloader, num_epochs=5)"
   ]
  },
  {
   "cell_type": "code",
   "execution_count": null,
   "metadata": {
    "colab": {
     "base_uri": "https://localhost:8080/"
    },
    "id": "eFSiM2c9zZCS",
    "outputId": "686d2830-4f4d-4e22-fbbc-a946f9b268b7"
   },
   "outputs": [],
   "source": [
    "all_accuracy(net, testloader)"
   ]
  },
  {
   "cell_type": "code",
   "execution_count": null,
   "metadata": {
    "colab": {
     "base_uri": "https://localhost:8080/"
    },
    "id": "RJxNclV0zcNB",
    "outputId": "b8f38628-2996-43ce-d1bc-789694d1bbc1"
   },
   "outputs": [],
   "source": [
    "class_accuracy(net, testloader)"
   ]
  },
  {
   "cell_type": "markdown",
   "metadata": {
    "id": "qk4jNa-kzfUg"
   },
   "source": [
    "## Свёрточная сеть для классификации"
   ]
  },
  {
   "cell_type": "code",
   "execution_count": null,
   "metadata": {
    "id": "zKA-9Z9czdSW"
   },
   "outputs": [],
   "source": [
    "import torch.nn as nn\n",
    "import torch.nn.functional as F\n",
    "\n",
    "\n",
    "class Net(nn.Module):\n",
    "    def __init__(self):\n",
    "        super(Net, self).__init__()\n",
    "        self.conv1 = nn.Conv2d(3, 6, 5)\n",
    "        self.pool = nn.MaxPool2d(2, 2)\n",
    "        self.conv2 = nn.Conv2d(6, 16, 5)\n",
    "        self.fc1 = nn.Linear(16 * 5 * 5, 120)\n",
    "        self.fc2 = nn.Linear(120, 84)\n",
    "        self.fc3 = nn.Linear(84, 10)\n",
    "\n",
    "    def forward(self, x):\n",
    "        x = self.pool(F.relu(self.conv1(x)))\n",
    "        x = self.pool(F.relu(self.conv2(x)))\n",
    "        x = x.view(-1, 16 * 5 * 5)\n",
    "        x = F.relu(self.fc1(x))\n",
    "        x = F.relu(self.fc2(x))\n",
    "        x = self.fc3(x)\n",
    "        return x\n",
    "\n",
    "\n",
    "net = Net()"
   ]
  },
  {
   "cell_type": "code",
   "execution_count": null,
   "metadata": {
    "id": "7fb_OWUkzi6z"
   },
   "outputs": [],
   "source": [
    "criterion = nn.CrossEntropyLoss()\n",
    "optimizer = optim.SGD(net.parameters(), lr=0.001, momentum=0.9)"
   ]
  },
  {
   "cell_type": "code",
   "execution_count": null,
   "metadata": {
    "colab": {
     "base_uri": "https://localhost:8080/"
    },
    "id": "LAWnpvF0zkGl",
    "outputId": "c117092e-e07a-4db7-d0ca-3a309d42dc67"
   },
   "outputs": [],
   "source": [
    "net = train_model(net, criterion, optimizer, trainloader, num_epochs=5)"
   ]
  },
  {
   "cell_type": "code",
   "execution_count": null,
   "metadata": {
    "id": "5ECz9ZFPzlUe"
   },
   "outputs": [],
   "source": [
    "# сохраним сеть\n",
    "PATH = './cifar_net.pth'\n",
    "torch.save(net.state_dict(), PATH)"
   ]
  },
  {
   "cell_type": "code",
   "execution_count": null,
   "metadata": {
    "colab": {
     "base_uri": "https://localhost:8080/",
     "height": 211
    },
    "id": "AQxh2MkVzm0Y",
    "outputId": "34a934f7-a074-4e8f-d45a-9b4cd37c3833"
   },
   "outputs": [],
   "source": [
    "dataiter = iter(testloader)\n",
    "images, labels = next(dataiter)\n",
    "\n",
    "imshow(torchvision.utils.make_grid(images))\n",
    "print('GroundTruth: ', ' '.join('{}'.format(classes[labels[j]]) for j in range(batch_size)))"
   ]
  },
  {
   "cell_type": "code",
   "execution_count": null,
   "metadata": {
    "colab": {
     "base_uri": "https://localhost:8080/"
    },
    "id": "-GNnSz34zn_h",
    "outputId": "e1fa5d06-b94b-4323-f902-18e68a7820dd"
   },
   "outputs": [],
   "source": [
    "# загрузим сеть\n",
    "net_loaded = Net()\n",
    "net_loaded.load_state_dict(torch.load(PATH))"
   ]
  },
  {
   "cell_type": "code",
   "execution_count": null,
   "metadata": {
    "colab": {
     "base_uri": "https://localhost:8080/"
    },
    "id": "wVvs0uC_zpRD",
    "outputId": "8386b822-8dac-49a9-8e70-c34772919058"
   },
   "outputs": [],
   "source": [
    "outputs = net_loaded(images)\n",
    "_, predicted = torch.max(outputs, 1)\n",
    "\n",
    "print('Predicted: ', ' '.join('{}'.format(classes[predicted[j]]) for j in range(4)))"
   ]
  },
  {
   "cell_type": "code",
   "execution_count": null,
   "metadata": {
    "colab": {
     "base_uri": "https://localhost:8080/"
    },
    "id": "R6fNNfIszqRR",
    "outputId": "f4999a09-5a0e-49c7-a68a-3e171f47b0bb"
   },
   "outputs": [],
   "source": [
    "all_accuracy(net, testloader)"
   ]
  },
  {
   "cell_type": "code",
   "execution_count": null,
   "metadata": {
    "colab": {
     "base_uri": "https://localhost:8080/"
    },
    "id": "M4Mz-ChkzrX8",
    "outputId": "8aeb08f5-2c0e-439d-f1c8-aba98d905159"
   },
   "outputs": [],
   "source": [
    "class_accuracy(net, testloader)"
   ]
  },
  {
   "cell_type": "code",
   "execution_count": null,
   "metadata": {
    "id": "2tUoC1TUzsb9"
   },
   "outputs": [],
   "source": []
  }
 ],
 "metadata": {
  "colab": {
   "provenance": []
  },
  "kernelspec": {
   "display_name": "nn_fall_2022_venv",
   "language": "python",
   "name": "nn_fall_2022_venv"
  },
  "language_info": {
   "codemirror_mode": {
    "name": "ipython",
    "version": 3
   },
   "file_extension": ".py",
   "mimetype": "text/x-python",
   "name": "python",
   "nbconvert_exporter": "python",
   "pygments_lexer": "ipython3",
   "version": "3.9.6"
  }
 },
 "nbformat": 4,
 "nbformat_minor": 1
}
